{
  "cells": [
    {
      "cell_type": "code",
      "execution_count": 26,
      "metadata": {
        "id": "jmDhWssy-MhK"
      },
      "outputs": [],
      "source": [
        "import pandas as pd\n",
        "import numpy as np\n",
        "import datetime\n",
        "from torch.utils.data import Dataset, DataLoader\n",
        "import torch\n",
        "import torch.nn as nn\n",
        "import re,os\n",
        "import unicodedata\n",
        "import matplotlib.pyplot as plt\n",
        "import itertools\n",
        "import sklearn.metrics as metrics\n",
        "from sklearn import metrics, feature_selection\n",
        "from sklearn.metrics import roc_auc_score, f1_score, brier_score_loss,accuracy_score,classification_report,accuracy_score,confusion_matrix,recall_score,precision_score,roc_curve\n",
        "from transformers import Trainer, TrainingArguments, EvalPrediction,DataCollatorWithPadding, Trainer, TrainingArguments, AutoModelForSequenceClassification\n",
        "from transformers import BertModel, BertConfig, BertTokenizer, DebertaConfig, DebertaModel, DebertaTokenizer,DebertaV2Model, DebertaV2Config,DebertaV2Tokenizer,AutoTokenizer,AutoModel,AutoConfig\n",
        "\n",
        "from transformers.modeling_outputs import SequenceClassifierOutput\n",
        "from bs4 import BeautifulSoup"
      ]
    },
    {
      "cell_type": "code",
      "execution_count": 2,
      "metadata": {
        "id": "4xXE3vLU-MhL"
      },
      "outputs": [],
      "source": [
        "device=torch.device('cuda') if torch.cuda.is_available else torch.device('cpu')"
      ]
    },
    {
      "cell_type": "code",
      "execution_count": 3,
      "metadata": {
        "colab": {
          "base_uri": "https://localhost:8080/",
          "height": 286,
          "referenced_widgets": [
            "c8128d3fcee54884ac993b51f6f299e0",
            "1679fa2ab0dd4deab14d8e171fdad5a4",
            "ef8056f80b0d446da9c77c59017f88d7",
            "c5ac48780f50427cbeac9271b7657ddf",
            "385cc4be6d5047dba5079b65fa39f14f",
            "d963f04492014bd483db28e274042a60",
            "6e7481373d88460a9f645fe44b1f0168",
            "7b06e4ad1b95438ab42bcac17b954bb4",
            "a41cb6544454452b8cf538082896d689",
            "c2b72e74daa5471f8adc216c0d341811",
            "f6e8c64d43f8400cbdb58cc661525b15",
            "221c83536b1047a58165975dd9388e6b",
            "ce2bbf8db8ad45c19e4581cfc5a77b72",
            "0d267a4ade71480fa723479ccb8f2fde",
            "4feb40f80d3c415a9923ac64355317a4",
            "aac45caec68941829dd9f106159af037",
            "6b1b7aa5f95846d48dabd793a1532606",
            "3a9cc05c7af44412bf84cbe112532275",
            "fc46ffd786b74d0a9a187fc9bc3dd489",
            "5fb864d583154f0b87f6565d92dbd76c",
            "e724111e0f6844fa95b433284298861c",
            "845b9b6a5d8f4a37b4aee8950aadc75a",
            "ba077970e9794e338d52bc7b1ce1d022",
            "f2864806722a48e5a8a984a83526bd09",
            "1116eaae1956411bad85c6db59b03ec8",
            "c468dae275c148fdb7b2af5ccf139545",
            "31d3eef14faa4ff18ac77cd3f8b5e558",
            "7ae8334e2c654309aeb5f6134d562daa",
            "9a04d81b9b8f4453b85d69c5ae9892e3",
            "27dff8495f344e4fbb1cd8ddf9b5df1d",
            "a1277bc3580f4e288291f66ad8456f55",
            "412cb3be745140b0bd44ee6f37cfcb17",
            "1b509392f09347e18c6feb39490c4a92",
            "146f6467a1ef458d82f4da8aeb436ca5",
            "4278d17167e74952a1548777506bcf0d",
            "2ba08de02fe94044a217094fd0f52cdd",
            "7d8026df03f9476c881d8a013674204e",
            "25acc45628c2467d881edd3c0e7e6981",
            "7a235d9047bd4853b6d1629eafa94f56",
            "efea329b44fc4ae3a296b16f7107e256",
            "6d6570099ebd42e38edb066dac33952a",
            "6d90c2c898ca419fa20aa58ccee9fd6f",
            "63f3bfa8174f4c98bafd4337778a3771",
            "79a305ea6e354fa2910fad29669fff5d"
          ]
        },
        "id": "8NgV1kMXeWHM",
        "outputId": "bbdaf3fc-a4bc-4500-ced3-1414e210f2c1"
      },
      "outputs": [
        {
          "name": "stderr",
          "output_type": "stream",
          "text": [
            "Special tokens have been added in the vocabulary, make sure the associated word embeddings are fine-tuned or trained.\n",
            "c:\\Python311\\Lib\\site-packages\\transformers\\convert_slow_tokenizer.py:454: UserWarning: The sentencepiece tokenizer that you are converting to a fast tokenizer uses the byte fallback option which is not implemented in the fast tokenizers. In practice this means that the fast version of the tokenizer can produce unknown tokens whereas the sentencepiece version would have converted these unknown tokens into a sequence of byte tokens matching the original piece of text.\n",
            "  warnings.warn(\n",
            "Special tokens have been added in the vocabulary, make sure the associated word embeddings are fine-tuned or trained.\n",
            "Some weights of the model checkpoint at microsoft/mdeberta-v3-base were not used when initializing DebertaV2Model: ['lm_predictions.lm_head.LayerNorm.bias', 'lm_predictions.lm_head.dense.bias', 'mask_predictions.dense.weight', 'lm_predictions.lm_head.dense.weight', 'mask_predictions.classifier.bias', 'lm_predictions.lm_head.LayerNorm.weight', 'lm_predictions.lm_head.bias', 'mask_predictions.LayerNorm.weight', 'mask_predictions.dense.bias', 'mask_predictions.classifier.weight', 'deberta.embeddings.word_embeddings._weight', 'mask_predictions.LayerNorm.bias']\n",
            "- This IS expected if you are initializing DebertaV2Model from the checkpoint of a model trained on another task or with another architecture (e.g. initializing a BertForSequenceClassification model from a BertForPreTraining model).\n",
            "- This IS NOT expected if you are initializing DebertaV2Model from the checkpoint of a model that you expect to be exactly identical (initializing a BertForSequenceClassification model from a BertForSequenceClassification model).\n"
          ]
        }
      ],
      "source": [
        "#CON BERT\n",
        "# tokenizer = BertTokenizer.from_pretrained('bert-base-uncased')\n",
        "# config = BertConfig.from_pretrained('bert-base-uncased', output_hidden_states=True, output_attentions=True)\n",
        "# MODEL = BertModel.from_pretrained('bert-base-uncased', config=config)\n",
        "# CON DEBERTA\n",
        "# tokenizer = DebertaTokenizer.from_pretrained(\"microsoft/deberta-base\")\n",
        "# config = DebertaConfig.from_pretrained(\"microsoft/deberta-base\", output_hidden_states=True, output_attentions=True)\n",
        "# MODEL = DebertaModel.from_pretrained(\"microsoft/deberta-base\", config=config)\n",
        "\n",
        "# CON MDEBERTA\n",
        "\n",
        "tokenizer = AutoTokenizer.from_pretrained(\"microsoft/mdeberta-v3-base\")\n",
        "config = AutoConfig.from_pretrained(\"microsoft/mdeberta-v3-base\",output_hidden_states=True, output_attentions=True)\n",
        "MODEL = AutoModel.from_pretrained(\"microsoft/mdeberta-v3-base\", config=config)\n",
        "\n",
        "# MODEL_TYPE = 'bert'\n",
        "MODEL_TYPE = 'deberta'\n",
        "# MODEL_TYPE = 'bert'\n",
        "MODEL_TYPE = 'deberta'"
      ]
    },
    {
      "cell_type": "code",
      "execution_count": 4,
      "metadata": {
        "id": "LdENXpv-cqiv"
      },
      "outputs": [],
      "source": [
        "dataTrainer = pd.read_json(\"C:/DataSets/release/pan23-multi-author-analysis-dataset1/pan23-multi-author-analysis-dataset1-train/mdebertaTokenizer.json\")\n",
        "dataEvaluation = pd.read_json(\"C:/DataSets/release/pan23-multi-author-analysis-dataset1/pan23-multi-author-analysis-dataset1-validation/mdebertaTokenizer.json\")"
      ]
    },
    {
      "cell_type": "code",
      "execution_count": 7,
      "metadata": {
        "colab": {
          "base_uri": "https://localhost:8080/",
          "height": 423
        },
        "id": "Ccj6bO4fegKR",
        "outputId": "b55e562b-0075-421a-8b0a-47e609898cf4"
      },
      "outputs": [],
      "source": [
        "dataTrainer=dataTrainer.iloc[:5,:]"
      ]
    },
    {
      "cell_type": "code",
      "execution_count": 8,
      "metadata": {
        "colab": {
          "base_uri": "https://localhost:8080/",
          "height": 423
        },
        "id": "S5x-gPu5ejY-",
        "outputId": "888ca785-0fba-4059-8ace-e8c0299f825b"
      },
      "outputs": [],
      "source": [
        "dataEvaluation=dataEvaluation.iloc[:3,:]"
      ]
    },
    {
      "cell_type": "code",
      "execution_count": 10,
      "metadata": {
        "id": "8LsqH5NA-MhQ"
      },
      "outputs": [],
      "source": [
        "class MyDataset(Dataset):             # define una nueva clase MyDataset que hereda de Dataset\n",
        "    def __init__(self, dataframe):    # define el constructor  \"__init__\"  que toma un solo argumento dataframe\n",
        "        #print(dataframe)\n",
        "        self.len = len(dataframe)   # calcula la longitud de la entrada dataframe usando la funcion \"len\" y la almacena como una variable de instancia \"self.len\"\n",
        "        self.data = dataframe       # se asigna la entrada dataframe a una variable de instancia \"self.data\"\n",
        "\n",
        "\n",
        "    def __getitem__(self, index):   # define el método \"__getitem__\" que toma un solo argumento index\n",
        "        ''' el metodo __getitem__ devuelve un diccionario que contiene cuatro claves: 'input_ids', 'attention_mask', 'labels'y 'added_features' '''\n",
        "\n",
        "        input_ids = torch.tensor(self.data.text_vec.iloc[index]).cpu() # almacena las características de los datos de \"text_vec\" ​​que se han convertido en un vector de longitud fija.\n",
        "        #attention_mask = torch.ones([input_ids.size(0)]).cpu()  # attention_mask almacena los elementos de entrada que se debe prestar atención y cuáles se deben ignorar\n",
        "        #\n",
        "        mask = torch.ones(input_ids.shape,dtype=int)#Crear un tensor con el mismo tamaño que input_ids lleno de unos:\n",
        "        pad_positions = (input_ids == 0)#Identificar las posiciones en input_ids que contienen el token especial [PAD]\n",
        "        mask[pad_positions] = 0 #Actualizar las posiciones correspondientes en mask a cero:\n",
        "        attention_mask = mask #Actualizar las posiciones correspondientes en mask a cero:\n",
        "        #\n",
        "        label = self.data.same.iloc[index] # almacena un valor escalar que representa la etiqueta de salida para la puntuación de complejidad\n",
        "        targets = torch.tensor([1 - label, label])  #ojo probar ESTO ES NUEVO\n",
        "        return {\n",
        "            'input_ids': input_ids,               # devuelve las características de entrada para el punto de datos\n",
        "            'attention_mask': attention_mask,     # devuelve la máscara de atención para el punto de datos\n",
        "            'labels': targets                    # devuelve un valor escalar que representa la puntuación de complejidad\n",
        "        }\n",
        "\n",
        "    def __len__(self):\n",
        "        return self.len   # devuelve la longitud del conjunto de datos personalizado"
      ]
    },
    {
      "cell_type": "code",
      "execution_count": 11,
      "metadata": {
        "id": "mYILtDQCEM5y"
      },
      "outputs": [],
      "source": [
        "train_set, eval_dataset = MyDataset(dataTrainer), MyDataset(dataEvaluation)"
      ]
    },
    {
      "cell_type": "code",
      "execution_count": 12,
      "metadata": {
        "colab": {
          "base_uri": "https://localhost:8080/"
        },
        "id": "WVnmd-nT5bJK",
        "outputId": "8092736d-72a0-4ed0-b6a2-19e3fe9c2185"
      },
      "outputs": [
        {
          "data": {
            "text/plain": [
              "(5, 3)"
            ]
          },
          "execution_count": 12,
          "metadata": {},
          "output_type": "execute_result"
        }
      ],
      "source": [
        "train_set.len, eval_dataset.len"
      ]
    },
    {
      "cell_type": "code",
      "execution_count": 13,
      "metadata": {
        "colab": {
          "base_uri": "https://localhost:8080/"
        },
        "id": "oG2qwMKbeZ5I",
        "outputId": "4f0dc565-ac8e-4858-9195-e2101d7fbcb1"
      },
      "outputs": [
        {
          "data": {
            "text/plain": [
              "<__main__.MyDataset at 0x1eccf875c10>"
            ]
          },
          "execution_count": 13,
          "metadata": {},
          "output_type": "execute_result"
        }
      ],
      "source": [
        "train_set"
      ]
    },
    {
      "cell_type": "code",
      "execution_count": 154,
      "metadata": {
        "id": "P8YHC_iv-MhR"
      },
      "outputs": [],
      "source": [
        "\n",
        "class StackedCLSModel(nn.Module):\n",
        "      def __init__(self, model=MODEL, model_type=MODEL_TYPE):\n",
        "        super(StackedCLSModel, self).__init__()\n",
        "        self.model = MODEL\n",
        "        self.model_type = MODEL_TYPE\n",
        "        self.Fusion = nn.Parameter(torch.zeros(12, 1))\n",
        "        self.dropout = nn.Dropout(0.2)\n",
        "        self.funActivacion = nn.ReLU()\n",
        "        self.lin1 = nn.Linear(768, 128)\n",
        "        self.lin2 = nn.Linear(128, 2)\n",
        "        self.loss_func = nn.CrossEntropyLoss()\n",
        "        self.init = 0\n",
        "      def forward(self, input_ids, attention_mask, labels=None):\n",
        "        outputs = self.model(input_ids, attention_mask=attention_mask)\n",
        "        if self.model_type == \"bert\":\n",
        "          cls_tensors = torch.stack([outputs[2][n][:, 0, :] for n in range(1, 13)])\n",
        "        elif self.model_type == \"deberta\":\n",
        "          cls_tensors = torch.stack([outputs[1][n][:, 0, :] for n in range(1, 13)])\n",
        "        t_cls_tensors = cls_tensors.transpose(1, 0)\n",
        "        t_cls_tensors_mean = torch.mean(t_cls_tensors, dim=1)  # Reducción de la dimensión 12 a 2\n",
        "        x = self.lin1(t_cls_tensors_mean)\n",
        "        x = self.dropout(x)\n",
        "        x = self.funActivacion(x)\n",
        "        logit = self.lin2(x)\n",
        "        loss = None\n",
        "        if labels is not None:\n",
        "          loss = self.loss_func(logit, labels.float())\n",
        "          loss = loss.mean()\n",
        "        return SequenceClassifierOutput(loss=loss, logits=logit)\n",
        "      def predict(self, input_ids, attention_mask):\n",
        "          logits = self.forward(input_ids, attention_mask, labels=None)\n",
        "          predicciones = logits.logits.argmax(dim=1)\n",
        "          return predicciones.tolist()\n",
        "\n",
        "      \n"
      ]
    },
    {
      "cell_type": "code",
      "execution_count": 17,
      "metadata": {
        "id": "cifhG6tW2t-L"
      },
      "outputs": [],
      "source": [
        "def c_at_1(train_data, test_data, threshold=0.5):\n",
        "      n = float(len(test_data))\n",
        "      nc, nu = 0.0, 0.0\n",
        "\n",
        "      for gt_score, pred_score in zip(train_data, test_data):\n",
        "        if pred_score == 0.5:\n",
        "          nu += 1\n",
        "        elif (pred_score > 0.5) == (gt_score > 0.5):\n",
        "          nc += 1.0\n",
        "\n",
        "      return (1 / n) * (nc + (nu * nc / n))\n",
        "\n",
        "def binarize(y, threshold=0.5, triple_valued=False):\n",
        "    y = np.array(y)\n",
        "    y = np.ma.fix_invalid(y, fill_value=threshold)\n",
        "    if triple_valued:\n",
        "        y[y > threshold] = 1\n",
        "    else:\n",
        "        y[y >= threshold] = 1\n",
        "    y[y < threshold] = 0\n",
        "    return y\n",
        "\n",
        "def f_05_u_score(train_data, test_data, pos_label=1, threshold=0.5):\n",
        "\n",
        "      test_data = binarize(test_data)\n",
        "\n",
        "      n_tp = 0\n",
        "      n_fn = 0\n",
        "      n_fp = 0\n",
        "      n_u = 0\n",
        "\n",
        "      for i, pred in enumerate(test_data):\n",
        "        if pred == threshold:\n",
        "          n_u += 1\n",
        "        elif pred == pos_label and pred == train_data[i]:\n",
        "          n_tp += 1\n",
        "        elif pred == pos_label and pred != train_data[i]:\n",
        "          n_fp += 1\n",
        "        elif train_data[i] == pos_label and pred != train_data[i]:\n",
        "          n_fn += 1\n",
        "\n",
        "      return (1.25 * n_tp) / (1.25 * n_tp + 0.25 * (n_fn + n_u) + n_fp)\n",
        "\n",
        "def brier_score(train_data, test_data):\n",
        "      try:\n",
        "        return 1 - brier_score_loss(train_data, test_data)\n",
        "      except ValueError:\n",
        "        return 0.0\n",
        "\n",
        "def auc_score(train_data, test_data):\n",
        "    try:\n",
        "        return roc_auc_score(train_data, test_data)\n",
        "    except ValueError:\n",
        "        return 0.0\n"
      ]
    },
    {
      "cell_type": "code",
      "execution_count": 18,
      "metadata": {
        "id": "AlzkKYSKA5eD"
      },
      "outputs": [],
      "source": [
        "def compute_metrics(p: EvalPrediction): # calcula diversas métricas de evaluación\n",
        "  preds = np.argmax(p.predictions,axis=-1)\n",
        "  preds = np.squeeze(preds)\n",
        "  labels = np.argmax(p.label_ids,axis=-1)\n",
        "  labels = np.squeeze(labels)\n",
        "  precision = precision_score(labels, preds, average='micro')\n",
        "  precision_macro = precision_score(labels, preds, average='macro')\n",
        "  auc = auc_score(labels, preds)\n",
        "  #mse = metrics.mean_squared_error(labels, preds)# Se toma el primer indice del label\n",
        "  #print(\"SIZES::::\",labels.shape, preds.shape)\n",
        "\n",
        "\n",
        "  return {\n",
        "          'auc': auc,\n",
        "          'c@1': c_at_1(labels, preds),\n",
        "          'f_05_u': f_05_u_score(labels, preds),\n",
        "          'F1': f1_score(labels, preds, average = 'micro'),\n",
        "          'brier': brier_score(labels, preds),\n",
        "          'precision micro': precision,\n",
        "          'precision macro': precision_macro\n",
        "          }"
      ]
    },
    {
      "cell_type": "code",
      "execution_count": 95,
      "metadata": {
        "id": "1Xi6SQJjEpgX"
      },
      "outputs": [],
      "source": [
        "# Definir bien los argumentos\n",
        "args = TrainingArguments(\n",
        "    output_dir='output',  # Ruta del directorio de salida donde se guardarán los resultados del entrenamiento\n",
        "    evaluation_strategy='epoch',  # Evaluación del modelo al final de cada época\n",
        "    num_train_epochs=7,  # Número total de épocas de entrenamiento\n",
        "    per_device_train_batch_size=16,  # Tamaño del lote de entrenamiento por dispositivo. Ajustar según la memoria GPU disponible\n",
        "    per_device_eval_batch_size=16,  # Tamaño del lote de evaluación por dispositivo. Ajustar según la memoria GPU disponible\n",
        "    learning_rate=5e-5,  # Tasa de aprendizaje utilizada en el entrenamiento\n",
        "    overwrite_output_dir=True,  # Sobrescribir el directorio de salida si ya existe\n",
        "    remove_unused_columns=False,  # No eliminar columnas no utilizadas del conjunto de datos\n",
        "    logging_dir='logs',  # Ruta del directorio donde se guardarán los archivos de registro del entrenamiento\n",
        "    logging_steps=10,  # Número de pasos después de los cuales se realizará el registro\n",
        "    save_strategy='epoch',  # Estrategia de guardado del modelo: al final de cada época\n",
        "    save_total_limit=10,  # Límite total de modelos guardados\n",
        "    load_best_model_at_end=True,  # Cargar el mejor modelo al final del entrenamiento\n",
        "    warmup_steps=10,  # Número de pasos de calentamiento antes de ajustar la tasa de aprendizaje\n",
        "    weight_decay=0.03,  # Factor de decaimiento de peso para la regularización L2\n",
        "    adam_epsilon=1e-8,  # Epsilon para el optimizador Adam, utilizado para la estabilidad numérica\n",
        "    adam_beta1=0.5,  # Coeficiente beta1 para el optimizador Adam\n",
        "    adam_beta2=0.5,  # Coeficiente beta2 para el optimizador Adam\n",
        "    lr_scheduler_type='cosine',  # Tipo de programador de tasa de aprendizaje: programador coseno curva de aprendizaje  entre el eje x\n",
        "    gradient_accumulation_steps=1,  # Número de pasos de acumulación de gradiente antes de realizar una actualización de parámetros\n",
        "    max_grad_norm=5.0,  # Valor máximo de la norma del gradiente para evitar explosiones de gradiente\n",
        "    save_steps=10  # Número de pasos después de los cuales se guarda el modelo\n",
        "    )\n"
      ]
    },
    {
      "cell_type": "code",
      "execution_count": 163,
      "metadata": {
        "id": "isbFdendEucj"
      },
      "outputs": [],
      "source": [
        "model = StackedCLSModel(trainer.model, MODEL_TYPE)"
      ]
    },
    {
      "cell_type": "code",
      "execution_count": 164,
      "metadata": {
        "id": "mD_oLB_b-MhS"
      },
      "outputs": [],
      "source": [
        "trainer = Trainer(\n",
        "   model=model,\n",
        "    args=args,\n",
        "    train_dataset=train_set,\n",
        "    eval_dataset=eval_dataset,\n",
        "    compute_metrics=compute_metrics\n",
        ")"
      ]
    },
    {
      "cell_type": "code",
      "execution_count": 98,
      "metadata": {
        "colab": {
          "base_uri": "https://localhost:8080/",
          "height": 349
        },
        "id": "sGrkAco5-MhU",
        "outputId": "d5c2bc8d-642c-4901-c180-d7f8990873e6"
      },
      "outputs": [
        {
          "name": "stderr",
          "output_type": "stream",
          "text": [
            "c:\\Python311\\Lib\\site-packages\\transformers\\optimization.py:391: FutureWarning: This implementation of AdamW is deprecated and will be removed in a future version. Use the PyTorch implementation torch.optim.AdamW instead, or set `no_deprecation_warning=True` to disable this warning\n",
            "  warnings.warn(\n",
            " 14%|█▍        | 1/7 [00:21<02:08, 21.46s/it]\n",
            " 14%|█▍        | 1/7 [00:26<02:08, 21.46s/it]"
          ]
        },
        {
          "name": "stdout",
          "output_type": "stream",
          "text": [
            "{'eval_loss': 0.6131136417388916, 'eval_auc': 0.0, 'eval_c@1': 1.0, 'eval_f_05_u': 1.0, 'eval_F1': 1.0, 'eval_brier': 1.0, 'eval_precision micro': 1.0, 'eval_precision macro': 1.0, 'eval_runtime': 4.7587, 'eval_samples_per_second': 0.63, 'eval_steps_per_second': 0.21, 'epoch': 1.0}\n"
          ]
        },
        {
          "name": "stderr",
          "output_type": "stream",
          "text": [
            " 29%|██▊       | 2/7 [00:55<02:22, 28.58s/it]\n",
            " 29%|██▊       | 2/7 [01:00<02:22, 28.58s/it]"
          ]
        },
        {
          "name": "stdout",
          "output_type": "stream",
          "text": [
            "{'eval_loss': 0.6127775311470032, 'eval_auc': 0.0, 'eval_c@1': 1.0, 'eval_f_05_u': 1.0, 'eval_F1': 1.0, 'eval_brier': 1.0, 'eval_precision micro': 1.0, 'eval_precision macro': 1.0, 'eval_runtime': 4.9825, 'eval_samples_per_second': 0.602, 'eval_steps_per_second': 0.201, 'epoch': 2.0}\n"
          ]
        },
        {
          "name": "stderr",
          "output_type": "stream",
          "text": [
            " 43%|████▎     | 3/7 [02:17<03:32, 53.14s/it]\n",
            " 43%|████▎     | 3/7 [02:21<03:32, 53.14s/it]"
          ]
        },
        {
          "name": "stdout",
          "output_type": "stream",
          "text": [
            "{'eval_loss': 0.6123310327529907, 'eval_auc': 0.0, 'eval_c@1': 1.0, 'eval_f_05_u': 1.0, 'eval_F1': 1.0, 'eval_brier': 1.0, 'eval_precision micro': 1.0, 'eval_precision macro': 1.0, 'eval_runtime': 4.1676, 'eval_samples_per_second': 0.72, 'eval_steps_per_second': 0.24, 'epoch': 3.0}\n"
          ]
        },
        {
          "name": "stderr",
          "output_type": "stream",
          "text": [
            " 57%|█████▋    | 4/7 [03:57<03:34, 71.50s/it]\n",
            " 57%|█████▋    | 4/7 [04:01<03:34, 71.50s/it]"
          ]
        },
        {
          "name": "stdout",
          "output_type": "stream",
          "text": [
            "{'eval_loss': 0.611556351184845, 'eval_auc': 0.0, 'eval_c@1': 1.0, 'eval_f_05_u': 1.0, 'eval_F1': 1.0, 'eval_brier': 1.0, 'eval_precision micro': 1.0, 'eval_precision macro': 1.0, 'eval_runtime': 4.1035, 'eval_samples_per_second': 0.731, 'eval_steps_per_second': 0.244, 'epoch': 4.0}\n"
          ]
        },
        {
          "name": "stderr",
          "output_type": "stream",
          "text": [
            " 71%|███████▏  | 5/7 [05:36<02:43, 81.64s/it]\n",
            " 71%|███████▏  | 5/7 [05:40<02:43, 81.64s/it]"
          ]
        },
        {
          "name": "stdout",
          "output_type": "stream",
          "text": [
            "{'eval_loss': 0.6103667616844177, 'eval_auc': 0.0, 'eval_c@1': 1.0, 'eval_f_05_u': 1.0, 'eval_F1': 1.0, 'eval_brier': 1.0, 'eval_precision micro': 1.0, 'eval_precision macro': 1.0, 'eval_runtime': 4.1221, 'eval_samples_per_second': 0.728, 'eval_steps_per_second': 0.243, 'epoch': 5.0}\n"
          ]
        },
        {
          "name": "stderr",
          "output_type": "stream",
          "text": [
            " 86%|████████▌ | 6/7 [07:24<01:30, 90.61s/it]\n",
            " 86%|████████▌ | 6/7 [07:28<01:30, 90.61s/it]"
          ]
        },
        {
          "name": "stdout",
          "output_type": "stream",
          "text": [
            "{'eval_loss': 0.6087602376937866, 'eval_auc': 0.0, 'eval_c@1': 1.0, 'eval_f_05_u': 1.0, 'eval_F1': 1.0, 'eval_brier': 1.0, 'eval_precision micro': 1.0, 'eval_precision macro': 1.0, 'eval_runtime': 3.9709, 'eval_samples_per_second': 0.755, 'eval_steps_per_second': 0.252, 'epoch': 6.0}\n"
          ]
        },
        {
          "name": "stderr",
          "output_type": "stream",
          "text": [
            "100%|██████████| 7/7 [09:09<00:00, 95.30s/it]\n",
            "100%|██████████| 7/7 [09:13<00:00, 95.30s/it]"
          ]
        },
        {
          "name": "stdout",
          "output_type": "stream",
          "text": [
            "{'eval_loss': 0.6061851978302002, 'eval_auc': 0.0, 'eval_c@1': 1.0, 'eval_f_05_u': 1.0, 'eval_F1': 1.0, 'eval_brier': 1.0, 'eval_precision micro': 1.0, 'eval_precision macro': 1.0, 'eval_runtime': 3.9325, 'eval_samples_per_second': 0.763, 'eval_steps_per_second': 0.254, 'epoch': 7.0}\n"
          ]
        },
        {
          "name": "stderr",
          "output_type": "stream",
          "text": [
            "100%|██████████| 7/7 [11:43<00:00, 100.46s/it]"
          ]
        },
        {
          "name": "stdout",
          "output_type": "stream",
          "text": [
            "{'train_runtime': 703.2718, 'train_samples_per_second': 0.05, 'train_steps_per_second': 0.01, 'train_loss': 0.683619567326137, 'epoch': 7.0}\n"
          ]
        },
        {
          "name": "stderr",
          "output_type": "stream",
          "text": [
            "\n"
          ]
        }
      ],
      "source": [
        "result=None\n",
        "result=trainer.train()"
      ]
    },
    {
      "cell_type": "code",
      "execution_count": 23,
      "metadata": {
        "id": "nlmDmlFVspAV"
      },
      "outputs": [],
      "source": [
        "\n",
        "\n",
        "def group_by_property(metrics):\n",
        "    properties = set()\n",
        "    for metric in metrics:\n",
        "        for property in metric:\n",
        "            properties.add(property)\n",
        "    grouped_metrics = {}\n",
        "    for property in properties:\n",
        "        grouped_metrics[property] = [metric for metric in metrics if property in metric]\n",
        "    return grouped_metrics\n",
        "def agrupar_propiedades(lista):\n",
        "    resultado = {}\n",
        "    for diccionario in lista:\n",
        "        for propiedad, valor in diccionario.items():\n",
        "            # Reemplazar espacios y caracteres especiales en la propiedad con guiones bajos\n",
        "            propiedad = propiedad.replace(' ', '_').replace('-', '_')\n",
        "            if propiedad not in resultado:\n",
        "                resultado[propiedad] = []\n",
        "            resultado[propiedad].append(valor)\n",
        "    return resultado\n",
        "\n",
        "def _getvalores(data,key):{\n",
        "  [metric[key] for metric in data if key in data]\n",
        "}\n",
        "\n",
        "\n",
        "\n",
        "def normalizar_propiedades(lista):\n",
        "    for diccionario in lista:\n",
        "        for propiedad in list(diccionario.keys()):\n",
        "            propiedad_normalizada = propiedad.replace(\" \", \"_\").replace(\"-\", \"_\").replace(\".\", \"_\").replace(\":\", \"_\").replace(\"/\", \"_\")\n",
        "            if propiedad != propiedad_normalizada:\n",
        "                diccionario[propiedad_normalizada] = diccionario.pop(propiedad)\n",
        "    return lista\n"
      ]
    },
    {
      "cell_type": "code",
      "execution_count": 99,
      "metadata": {
        "id": "BznIdYZ1stqI"
      },
      "outputs": [],
      "source": [
        "def generarGrafico(metrics,numero=2):\n",
        "    metricas2 = agrupar_propiedades(metrics)\n",
        "    fecha_hora = datetime.datetime.now().strftime('%Y-%m-%d %H:%M:%S')\n",
        "    # Configurar el gráfico\n",
        "    plt.figure(figsize=(10, 8))\n",
        "    plt.title('Métricas de entrenamiento por época')\n",
        "    plt.xlabel('Época')\n",
        "    plt.ylabel('Valor de la métrica')\n",
        "    plt.ylim(0, 1.5)\n",
        "\n",
        "    # Graficar cada métrica con longitud distinta a 7\n",
        "    for name, valores in metricas2.items():\n",
        "        if len(valores) == numero:  # Verificar si la longitud es igual a 7\n",
        "            plt.plot(range(len(valores)), valores, label=name,marker='o')\n",
        "\n",
        "    # Agregar leyenda y mostrar gráfico\n",
        "    plt.legend(bbox_to_anchor=(1.05, 1), loc='upper left')\n",
        "    plt.grid(True)\n",
        "\n",
        "    # Establecer valores y etiquetas en el eje y con todos los decimales\n",
        "    plt.yticks([i / 10 for i in range(15)])\n",
        "\n",
        "    # Agregar fecha y hora al pie de la gráfica\n",
        "    plt.figtext(0.99, 0.01, fecha_hora, ha='right', va='bottom')\n",
        "\n",
        "    # Guardar el gráfico en la ubicación especificada\n",
        "    plt.savefig(os.path.join('Graficos', 'grafico.png'))\n",
        "    plt.show()\n"
      ]
    },
    {
      "cell_type": "code",
      "execution_count": 101,
      "metadata": {
        "id": "pia9vcZtsy_X"
      },
      "outputs": [],
      "source": [
        "metrics=trainer.state.log_history\n"
      ]
    },
    {
      "cell_type": "code",
      "execution_count": 102,
      "metadata": {},
      "outputs": [],
      "source": [
        "metrics=normalizar_propiedades(metrics)\n"
      ]
    },
    {
      "cell_type": "code",
      "execution_count": 104,
      "metadata": {
        "colab": {
          "base_uri": "https://localhost:8080/",
          "height": 755
        },
        "id": "H5D6t9pJs1R7",
        "outputId": "7af4faba-6694-4b8d-9eae-a86e1418009c"
      },
      "outputs": [
        {
          "data": {
            "image/png": "[encoded data removed]",
            "text/plain": [
              "<Figure size 1000x800 with 1 Axes>"
            ]
          },
          "metadata": {},
          "output_type": "display_data"
        }
      ],
      "source": [
        "generarGrafico(metrics,args.num_train_epochs)"
      ]
    },
    {
      "cell_type": "code",
      "execution_count": 156,
      "metadata": {},
      "outputs": [],
      "source": [
        "torch.save(model, 'best_model.pth')\n"
      ]
    },
    {
      "cell_type": "code",
      "execution_count": 157,
      "metadata": {},
      "outputs": [],
      "source": [
        "modelo_cargado = torch.load('best_model.pth')\n"
      ]
    },
    {
      "cell_type": "code",
      "execution_count": null,
      "metadata": {},
      "outputs": [],
      "source": [
        "modelo_cargado"
      ]
    },
    {
      "cell_type": "code",
      "execution_count": 152,
      "metadata": {},
      "outputs": [],
      "source": [
        "train_input_ids = [train_set[i]['input_ids'] for i in range(len(train_set))]\n",
        "train_attention_mask = [train_set[i]['attention_mask'] for i in range(len(train_set))]\n"
      ]
    },
    {
      "cell_type": "code",
      "execution_count": 158,
      "metadata": {
        "colab": {
          "base_uri": "https://localhost:8080/",
          "height": 17
        },
        "id": "jSeyAQEy-MhV",
        "outputId": "4c6c6ba3-199f-4461-95a7-b701b7c5228c"
      },
      "outputs": [],
      "source": [
        "train_input_ids_tensor = torch.stack(train_input_ids)  # Convertir la lista en un tensor\n",
        "train_attention_mask_tensor = torch.stack(train_attention_mask)  # Convertir la lista en un tensor\n",
        "\n",
        "# Realizar las predicciones con el modelo cargado\n",
        "predicciones = modelo_cargado.predict(train_input_ids_tensor, train_attention_mask_tensor)\n"
      ]
    },
    {
      "cell_type": "code",
      "execution_count": 165,
      "metadata": {},
      "outputs": [
        {
          "name": "stderr",
          "output_type": "stream",
          "text": [
            "  0%|          | 0/1 [00:00<?, ?it/s]c:\\Python311\\Lib\\site-packages\\sklearn\\metrics\\_classification.py:1344: UndefinedMetricWarning: Precision is ill-defined and being set to 0.0 in labels with no predicted samples. Use `zero_division` parameter to control this behavior.\n",
            "  _warn_prf(average, modifier, msg_start, len(result))\n",
            "100%|██████████| 1/1 [00:00<00:00, 66.42it/s]\n"
          ]
        }
      ],
      "source": [
        "predicciones = trainer.predict(train_set)\n"
      ]
    },
    {
      "cell_type": "code",
      "execution_count": 166,
      "metadata": {},
      "outputs": [
        {
          "data": {
            "text/plain": [
              "PredictionOutput(predictions=array([[-0.06403185,  0.12055501],\n",
              "       [-0.06359295,  0.10869522],\n",
              "       [-0.07245757,  0.1143637 ],\n",
              "       [-0.07061363,  0.11275133],\n",
              "       [-0.06689371,  0.10885499]], dtype=float32), label_ids=array([[0, 1],\n",
              "       [1, 0],\n",
              "       [0, 1],\n",
              "       [0, 1],\n",
              "       [1, 0]], dtype=int64), metrics={'test_loss': 0.6765472292900085, 'test_auc': 0.5, 'test_c@1': 0.6000000000000001, 'test_f_05_u': 0.6521739130434783, 'test_F1': 0.6, 'test_brier': 0.6, 'test_precision micro': 0.6, 'test_precision macro': 0.3, 'test_runtime': 6.7526, 'test_samples_per_second': 0.74, 'test_steps_per_second': 0.148})"
            ]
          },
          "execution_count": 166,
          "metadata": {},
          "output_type": "execute_result"
        }
      ],
      "source": [
        "prediciones"
      ]
    },
    {
      "cell_type": "code",
      "execution_count": null,
      "metadata": {
        "id": "ggb4FLiLp9g9"
      },
      "outputs": [],
      "source": [
        "evaluacion = trainer.evaluate()"
      ]
    },
    {
      "cell_type": "code",
      "execution_count": null,
      "metadata": {
        "id": "TakZXhPYqCQ2"
      },
      "outputs": [],
      "source": [
        "evaluacion"
      ]
    },
    {
      "cell_type": "code",
      "execution_count": null,
      "metadata": {
        "id": "VPvXDcye-MhW"
      },
      "outputs": [],
      "source": [
        "print (prediciones.predictions.shape, prediciones.label_ids.shape)\n",
        "print (prediciones.predictions, prediciones.label_ids)"
      ]
    },
    {
      "cell_type": "code",
      "execution_count": null,
      "metadata": {
        "id": "EAVzwQMiFTKr"
      },
      "outputs": [],
      "source": [
        "evaluate"
      ]
    },
    {
      "cell_type": "code",
      "execution_count": null,
      "metadata": {
        "id": "LZn16iIGxmK_"
      },
      "outputs": [],
      "source": [
        "evaluacio=model.eval()"
      ]
    },
    {
      "cell_type": "code",
      "execution_count": null,
      "metadata": {
        "id": "csCqTkGW-MhW"
      },
      "outputs": [],
      "source": [
        "now = datetime.datetime.now()\n",
        "date_string = now.strftime(\"%Y-%m-%d_%H-%M-%S\")\n",
        "trainer.save_model(f\"/content/drive/MyDrive/003/ouput/modelnew_{date_string}\")\n",
        "tokenizer.save_pretrained(f\"/content/drive/MyDrive/003/ouput/modelnew_{date_string}\")\n",
        "MODEL.config.save_pretrained(f\"/content/drive/MyDrive/003/ouput/modelnew_{date_string}\")\n"
      ]
    },
    {
      "cell_type": "code",
      "execution_count": null,
      "metadata": {
        "id": "HPxq2X6Aq8AD"
      },
      "outputs": [],
      "source": [
        "model_path =\"/content/drive/MyDrive/003/ouput/modelnew_2023-05-11_21-35-35\"\n"
      ]
    },
    {
      "cell_type": "code",
      "execution_count": null,
      "metadata": {
        "id": "GFmMadt0t6AN"
      },
      "outputs": [],
      "source": [
        "model = AutoModelForSequenceClassification.from_pretrained(model_path)"
      ]
    },
    {
      "cell_type": "code",
      "execution_count": null,
      "metadata": {
        "id": "LdXqo5NEYs8W"
      },
      "outputs": [],
      "source": [
        "torch.cuda.empty_cache()"
      ]
    }
  ],
  "metadata": {
    "accelerator": "GPU",
    "colab": {
      "gpuType": "A100",
      "machine_shape": "hm",
      "provenance": []
    },
    "kernelspec": {
      "display_name": "Python 3",
      "name": "python3"
    },
    "language_info": {
      "codemirror_mode": {
        "name": "ipython",
        "version": 3
      },
      "file_extension": ".py",
      "mimetype": "text/x-python",
      "name": "python",
      "nbconvert_exporter": "python",
      "pygments_lexer": "ipython3",
      "version": "3.11.3"
    },
    "vscode": {
      "interpreter": {
        "hash": "c261aea317cc0286b3b3261fbba9abdec21eaa57589985bb7a274bf54d6cc0a7"
      }
    },
    "widgets": {
      "application/vnd.jupyter.widget-state+json": {
        "0d267a4ade71480fa723479ccb8f2fde": {
          "model_module": "@jupyter-widgets/controls",
          "model_module_version": "1.5.0",
          "model_name": "FloatProgressModel",
          "state": {
            "_dom_classes": [],
            "_model_module": "@jupyter-widgets/controls",
            "_model_module_version": "1.5.0",
            "_model_name": "FloatProgressModel",
            "_view_count": null,
            "_view_module": "@jupyter-widgets/controls",
            "_view_module_version": "1.5.0",
            "_view_name": "ProgressView",
            "bar_style": "success",
            "description": "",
            "description_tooltip": null,
            "layout": "IPY_MODEL_fc46ffd786b74d0a9a187fc9bc3dd489",
            "max": 579,
            "min": 0,
            "orientation": "horizontal",
            "style": "IPY_MODEL_5fb864d583154f0b87f6565d92dbd76c",
            "value": 579
          }
        },
        "1116eaae1956411bad85c6db59b03ec8": {
          "model_module": "@jupyter-widgets/controls",
          "model_module_version": "1.5.0",
          "model_name": "FloatProgressModel",
          "state": {
            "_dom_classes": [],
            "_model_module": "@jupyter-widgets/controls",
            "_model_module_version": "1.5.0",
            "_model_name": "FloatProgressModel",
            "_view_count": null,
            "_view_module": "@jupyter-widgets/controls",
            "_view_module_version": "1.5.0",
            "_view_name": "ProgressView",
            "bar_style": "success",
            "description": "",
            "description_tooltip": null,
            "layout": "IPY_MODEL_27dff8495f344e4fbb1cd8ddf9b5df1d",
            "max": 4305025,
            "min": 0,
            "orientation": "horizontal",
            "style": "IPY_MODEL_a1277bc3580f4e288291f66ad8456f55",
            "value": 4305025
          }
        },
        "146f6467a1ef458d82f4da8aeb436ca5": {
          "model_module": "@jupyter-widgets/controls",
          "model_module_version": "1.5.0",
          "model_name": "HBoxModel",
          "state": {
            "_dom_classes": [],
            "_model_module": "@jupyter-widgets/controls",
            "_model_module_version": "1.5.0",
            "_model_name": "HBoxModel",
            "_view_count": null,
            "_view_module": "@jupyter-widgets/controls",
            "_view_module_version": "1.5.0",
            "_view_name": "HBoxView",
            "box_style": "",
            "children": [
              "IPY_MODEL_4278d17167e74952a1548777506bcf0d",
              "IPY_MODEL_2ba08de02fe94044a217094fd0f52cdd",
              "IPY_MODEL_7d8026df03f9476c881d8a013674204e"
            ],
            "layout": "IPY_MODEL_25acc45628c2467d881edd3c0e7e6981"
          }
        },
        "1679fa2ab0dd4deab14d8e171fdad5a4": {
          "model_module": "@jupyter-widgets/controls",
          "model_module_version": "1.5.0",
          "model_name": "HTMLModel",
          "state": {
            "_dom_classes": [],
            "_model_module": "@jupyter-widgets/controls",
            "_model_module_version": "1.5.0",
            "_model_name": "HTMLModel",
            "_view_count": null,
            "_view_module": "@jupyter-widgets/controls",
            "_view_module_version": "1.5.0",
            "_view_name": "HTMLView",
            "description": "",
            "description_tooltip": null,
            "layout": "IPY_MODEL_d963f04492014bd483db28e274042a60",
            "placeholder": "​",
            "style": "IPY_MODEL_6e7481373d88460a9f645fe44b1f0168",
            "value": "Downloading (…)okenizer_config.json: 100%"
          }
        },
        "1b509392f09347e18c6feb39490c4a92": {
          "model_module": "@jupyter-widgets/controls",
          "model_module_version": "1.5.0",
          "model_name": "DescriptionStyleModel",
          "state": {
            "_model_module": "@jupyter-widgets/controls",
            "_model_module_version": "1.5.0",
            "_model_name": "DescriptionStyleModel",
            "_view_count": null,
            "_view_module": "@jupyter-widgets/base",
            "_view_module_version": "1.2.0",
            "_view_name": "StyleView",
            "description_width": ""
          }
        },
        "221c83536b1047a58165975dd9388e6b": {
          "model_module": "@jupyter-widgets/controls",
          "model_module_version": "1.5.0",
          "model_name": "HBoxModel",
          "state": {
            "_dom_classes": [],
            "_model_module": "@jupyter-widgets/controls",
            "_model_module_version": "1.5.0",
            "_model_name": "HBoxModel",
            "_view_count": null,
            "_view_module": "@jupyter-widgets/controls",
            "_view_module_version": "1.5.0",
            "_view_name": "HBoxView",
            "box_style": "",
            "children": [
              "IPY_MODEL_ce2bbf8db8ad45c19e4581cfc5a77b72",
              "IPY_MODEL_0d267a4ade71480fa723479ccb8f2fde",
              "IPY_MODEL_4feb40f80d3c415a9923ac64355317a4"
            ],
            "layout": "IPY_MODEL_aac45caec68941829dd9f106159af037"
          }
        },
        "25acc45628c2467d881edd3c0e7e6981": {
          "model_module": "@jupyter-widgets/base",
          "model_module_version": "1.2.0",
          "model_name": "LayoutModel",
          "state": {
            "_model_module": "@jupyter-widgets/base",
            "_model_module_version": "1.2.0",
            "_model_name": "LayoutModel",
            "_view_count": null,
            "_view_module": "@jupyter-widgets/base",
            "_view_module_version": "1.2.0",
            "_view_name": "LayoutView",
            "align_content": null,
            "align_items": null,
            "align_self": null,
            "border": null,
            "bottom": null,
            "display": null,
            "flex": null,
            "flex_flow": null,
            "grid_area": null,
            "grid_auto_columns": null,
            "grid_auto_flow": null,
            "grid_auto_rows": null,
            "grid_column": null,
            "grid_gap": null,
            "grid_row": null,
            "grid_template_areas": null,
            "grid_template_columns": null,
            "grid_template_rows": null,
            "height": null,
            "justify_content": null,
            "justify_items": null,
            "left": null,
            "margin": null,
            "max_height": null,
            "max_width": null,
            "min_height": null,
            "min_width": null,
            "object_fit": null,
            "object_position": null,
            "order": null,
            "overflow": null,
            "overflow_x": null,
            "overflow_y": null,
            "padding": null,
            "right": null,
            "top": null,
            "visibility": null,
            "width": null
          }
        },
        "27dff8495f344e4fbb1cd8ddf9b5df1d": {
          "model_module": "@jupyter-widgets/base",
          "model_module_version": "1.2.0",
          "model_name": "LayoutModel",
          "state": {
            "_model_module": "@jupyter-widgets/base",
            "_model_module_version": "1.2.0",
            "_model_name": "LayoutModel",
            "_view_count": null,
            "_view_module": "@jupyter-widgets/base",
            "_view_module_version": "1.2.0",
            "_view_name": "LayoutView",
            "align_content": null,
            "align_items": null,
            "align_self": null,
            "border": null,
            "bottom": null,
            "display": null,
            "flex": null,
            "flex_flow": null,
            "grid_area": null,
            "grid_auto_columns": null,
            "grid_auto_flow": null,
            "grid_auto_rows": null,
            "grid_column": null,
            "grid_gap": null,
            "grid_row": null,
            "grid_template_areas": null,
            "grid_template_columns": null,
            "grid_template_rows": null,
            "height": null,
            "justify_content": null,
            "justify_items": null,
            "left": null,
            "margin": null,
            "max_height": null,
            "max_width": null,
            "min_height": null,
            "min_width": null,
            "object_fit": null,
            "object_position": null,
            "order": null,
            "overflow": null,
            "overflow_x": null,
            "overflow_y": null,
            "padding": null,
            "right": null,
            "top": null,
            "visibility": null,
            "width": null
          }
        },
        "2ba08de02fe94044a217094fd0f52cdd": {
          "model_module": "@jupyter-widgets/controls",
          "model_module_version": "1.5.0",
          "model_name": "FloatProgressModel",
          "state": {
            "_dom_classes": [],
            "_model_module": "@jupyter-widgets/controls",
            "_model_module_version": "1.5.0",
            "_model_name": "FloatProgressModel",
            "_view_count": null,
            "_view_module": "@jupyter-widgets/controls",
            "_view_module_version": "1.5.0",
            "_view_name": "ProgressView",
            "bar_style": "success",
            "description": "",
            "description_tooltip": null,
            "layout": "IPY_MODEL_6d6570099ebd42e38edb066dac33952a",
            "max": 1332809049,
            "min": 0,
            "orientation": "horizontal",
            "style": "IPY_MODEL_6d90c2c898ca419fa20aa58ccee9fd6f",
            "value": 1332809049
          }
        },
        "31d3eef14faa4ff18ac77cd3f8b5e558": {
          "model_module": "@jupyter-widgets/base",
          "model_module_version": "1.2.0",
          "model_name": "LayoutModel",
          "state": {
            "_model_module": "@jupyter-widgets/base",
            "_model_module_version": "1.2.0",
            "_model_name": "LayoutModel",
            "_view_count": null,
            "_view_module": "@jupyter-widgets/base",
            "_view_module_version": "1.2.0",
            "_view_name": "LayoutView",
            "align_content": null,
            "align_items": null,
            "align_self": null,
            "border": null,
            "bottom": null,
            "display": null,
            "flex": null,
            "flex_flow": null,
            "grid_area": null,
            "grid_auto_columns": null,
            "grid_auto_flow": null,
            "grid_auto_rows": null,
            "grid_column": null,
            "grid_gap": null,
            "grid_row": null,
            "grid_template_areas": null,
            "grid_template_columns": null,
            "grid_template_rows": null,
            "height": null,
            "justify_content": null,
            "justify_items": null,
            "left": null,
            "margin": null,
            "max_height": null,
            "max_width": null,
            "min_height": null,
            "min_width": null,
            "object_fit": null,
            "object_position": null,
            "order": null,
            "overflow": null,
            "overflow_x": null,
            "overflow_y": null,
            "padding": null,
            "right": null,
            "top": null,
            "visibility": null,
            "width": null
          }
        },
        "385cc4be6d5047dba5079b65fa39f14f": {
          "model_module": "@jupyter-widgets/base",
          "model_module_version": "1.2.0",
          "model_name": "LayoutModel",
          "state": {
            "_model_module": "@jupyter-widgets/base",
            "_model_module_version": "1.2.0",
            "_model_name": "LayoutModel",
            "_view_count": null,
            "_view_module": "@jupyter-widgets/base",
            "_view_module_version": "1.2.0",
            "_view_name": "LayoutView",
            "align_content": null,
            "align_items": null,
            "align_self": null,
            "border": null,
            "bottom": null,
            "display": null,
            "flex": null,
            "flex_flow": null,
            "grid_area": null,
            "grid_auto_columns": null,
            "grid_auto_flow": null,
            "grid_auto_rows": null,
            "grid_column": null,
            "grid_gap": null,
            "grid_row": null,
            "grid_template_areas": null,
            "grid_template_columns": null,
            "grid_template_rows": null,
            "height": null,
            "justify_content": null,
            "justify_items": null,
            "left": null,
            "margin": null,
            "max_height": null,
            "max_width": null,
            "min_height": null,
            "min_width": null,
            "object_fit": null,
            "object_position": null,
            "order": null,
            "overflow": null,
            "overflow_x": null,
            "overflow_y": null,
            "padding": null,
            "right": null,
            "top": null,
            "visibility": null,
            "width": null
          }
        },
        "3a9cc05c7af44412bf84cbe112532275": {
          "model_module": "@jupyter-widgets/controls",
          "model_module_version": "1.5.0",
          "model_name": "DescriptionStyleModel",
          "state": {
            "_model_module": "@jupyter-widgets/controls",
            "_model_module_version": "1.5.0",
            "_model_name": "DescriptionStyleModel",
            "_view_count": null,
            "_view_module": "@jupyter-widgets/base",
            "_view_module_version": "1.2.0",
            "_view_name": "StyleView",
            "description_width": ""
          }
        },
        "412cb3be745140b0bd44ee6f37cfcb17": {
          "model_module": "@jupyter-widgets/base",
          "model_module_version": "1.2.0",
          "model_name": "LayoutModel",
          "state": {
            "_model_module": "@jupyter-widgets/base",
            "_model_module_version": "1.2.0",
            "_model_name": "LayoutModel",
            "_view_count": null,
            "_view_module": "@jupyter-widgets/base",
            "_view_module_version": "1.2.0",
            "_view_name": "LayoutView",
            "align_content": null,
            "align_items": null,
            "align_self": null,
            "border": null,
            "bottom": null,
            "display": null,
            "flex": null,
            "flex_flow": null,
            "grid_area": null,
            "grid_auto_columns": null,
            "grid_auto_flow": null,
            "grid_auto_rows": null,
            "grid_column": null,
            "grid_gap": null,
            "grid_row": null,
            "grid_template_areas": null,
            "grid_template_columns": null,
            "grid_template_rows": null,
            "height": null,
            "justify_content": null,
            "justify_items": null,
            "left": null,
            "margin": null,
            "max_height": null,
            "max_width": null,
            "min_height": null,
            "min_width": null,
            "object_fit": null,
            "object_position": null,
            "order": null,
            "overflow": null,
            "overflow_x": null,
            "overflow_y": null,
            "padding": null,
            "right": null,
            "top": null,
            "visibility": null,
            "width": null
          }
        },
        "4278d17167e74952a1548777506bcf0d": {
          "model_module": "@jupyter-widgets/controls",
          "model_module_version": "1.5.0",
          "model_name": "HTMLModel",
          "state": {
            "_dom_classes": [],
            "_model_module": "@jupyter-widgets/controls",
            "_model_module_version": "1.5.0",
            "_model_name": "HTMLModel",
            "_view_count": null,
            "_view_module": "@jupyter-widgets/controls",
            "_view_module_version": "1.5.0",
            "_view_name": "HTMLView",
            "description": "",
            "description_tooltip": null,
            "layout": "IPY_MODEL_7a235d9047bd4853b6d1629eafa94f56",
            "placeholder": "​",
            "style": "IPY_MODEL_efea329b44fc4ae3a296b16f7107e256",
            "value": "Downloading pytorch_model.bin: 100%"
          }
        },
        "4feb40f80d3c415a9923ac64355317a4": {
          "model_module": "@jupyter-widgets/controls",
          "model_module_version": "1.5.0",
          "model_name": "HTMLModel",
          "state": {
            "_dom_classes": [],
            "_model_module": "@jupyter-widgets/controls",
            "_model_module_version": "1.5.0",
            "_model_name": "HTMLModel",
            "_view_count": null,
            "_view_module": "@jupyter-widgets/controls",
            "_view_module_version": "1.5.0",
            "_view_name": "HTMLView",
            "description": "",
            "description_tooltip": null,
            "layout": "IPY_MODEL_e724111e0f6844fa95b433284298861c",
            "placeholder": "​",
            "style": "IPY_MODEL_845b9b6a5d8f4a37b4aee8950aadc75a",
            "value": " 579/579 [00:00&lt;00:00, 50.8kB/s]"
          }
        },
        "5fb864d583154f0b87f6565d92dbd76c": {
          "model_module": "@jupyter-widgets/controls",
          "model_module_version": "1.5.0",
          "model_name": "ProgressStyleModel",
          "state": {
            "_model_module": "@jupyter-widgets/controls",
            "_model_module_version": "1.5.0",
            "_model_name": "ProgressStyleModel",
            "_view_count": null,
            "_view_module": "@jupyter-widgets/base",
            "_view_module_version": "1.2.0",
            "_view_name": "StyleView",
            "bar_color": null,
            "description_width": ""
          }
        },
        "63f3bfa8174f4c98bafd4337778a3771": {
          "model_module": "@jupyter-widgets/base",
          "model_module_version": "1.2.0",
          "model_name": "LayoutModel",
          "state": {
            "_model_module": "@jupyter-widgets/base",
            "_model_module_version": "1.2.0",
            "_model_name": "LayoutModel",
            "_view_count": null,
            "_view_module": "@jupyter-widgets/base",
            "_view_module_version": "1.2.0",
            "_view_name": "LayoutView",
            "align_content": null,
            "align_items": null,
            "align_self": null,
            "border": null,
            "bottom": null,
            "display": null,
            "flex": null,
            "flex_flow": null,
            "grid_area": null,
            "grid_auto_columns": null,
            "grid_auto_flow": null,
            "grid_auto_rows": null,
            "grid_column": null,
            "grid_gap": null,
            "grid_row": null,
            "grid_template_areas": null,
            "grid_template_columns": null,
            "grid_template_rows": null,
            "height": null,
            "justify_content": null,
            "justify_items": null,
            "left": null,
            "margin": null,
            "max_height": null,
            "max_width": null,
            "min_height": null,
            "min_width": null,
            "object_fit": null,
            "object_position": null,
            "order": null,
            "overflow": null,
            "overflow_x": null,
            "overflow_y": null,
            "padding": null,
            "right": null,
            "top": null,
            "visibility": null,
            "width": null
          }
        },
        "6b1b7aa5f95846d48dabd793a1532606": {
          "model_module": "@jupyter-widgets/base",
          "model_module_version": "1.2.0",
          "model_name": "LayoutModel",
          "state": {
            "_model_module": "@jupyter-widgets/base",
            "_model_module_version": "1.2.0",
            "_model_name": "LayoutModel",
            "_view_count": null,
            "_view_module": "@jupyter-widgets/base",
            "_view_module_version": "1.2.0",
            "_view_name": "LayoutView",
            "align_content": null,
            "align_items": null,
            "align_self": null,
            "border": null,
            "bottom": null,
            "display": null,
            "flex": null,
            "flex_flow": null,
            "grid_area": null,
            "grid_auto_columns": null,
            "grid_auto_flow": null,
            "grid_auto_rows": null,
            "grid_column": null,
            "grid_gap": null,
            "grid_row": null,
            "grid_template_areas": null,
            "grid_template_columns": null,
            "grid_template_rows": null,
            "height": null,
            "justify_content": null,
            "justify_items": null,
            "left": null,
            "margin": null,
            "max_height": null,
            "max_width": null,
            "min_height": null,
            "min_width": null,
            "object_fit": null,
            "object_position": null,
            "order": null,
            "overflow": null,
            "overflow_x": null,
            "overflow_y": null,
            "padding": null,
            "right": null,
            "top": null,
            "visibility": null,
            "width": null
          }
        },
        "6d6570099ebd42e38edb066dac33952a": {
          "model_module": "@jupyter-widgets/base",
          "model_module_version": "1.2.0",
          "model_name": "LayoutModel",
          "state": {
            "_model_module": "@jupyter-widgets/base",
            "_model_module_version": "1.2.0",
            "_model_name": "LayoutModel",
            "_view_count": null,
            "_view_module": "@jupyter-widgets/base",
            "_view_module_version": "1.2.0",
            "_view_name": "LayoutView",
            "align_content": null,
            "align_items": null,
            "align_self": null,
            "border": null,
            "bottom": null,
            "display": null,
            "flex": null,
            "flex_flow": null,
            "grid_area": null,
            "grid_auto_columns": null,
            "grid_auto_flow": null,
            "grid_auto_rows": null,
            "grid_column": null,
            "grid_gap": null,
            "grid_row": null,
            "grid_template_areas": null,
            "grid_template_columns": null,
            "grid_template_rows": null,
            "height": null,
            "justify_content": null,
            "justify_items": null,
            "left": null,
            "margin": null,
            "max_height": null,
            "max_width": null,
            "min_height": null,
            "min_width": null,
            "object_fit": null,
            "object_position": null,
            "order": null,
            "overflow": null,
            "overflow_x": null,
            "overflow_y": null,
            "padding": null,
            "right": null,
            "top": null,
            "visibility": null,
            "width": null
          }
        },
        "6d90c2c898ca419fa20aa58ccee9fd6f": {
          "model_module": "@jupyter-widgets/controls",
          "model_module_version": "1.5.0",
          "model_name": "ProgressStyleModel",
          "state": {
            "_model_module": "@jupyter-widgets/controls",
            "_model_module_version": "1.5.0",
            "_model_name": "ProgressStyleModel",
            "_view_count": null,
            "_view_module": "@jupyter-widgets/base",
            "_view_module_version": "1.2.0",
            "_view_name": "StyleView",
            "bar_color": null,
            "description_width": ""
          }
        },
        "6e7481373d88460a9f645fe44b1f0168": {
          "model_module": "@jupyter-widgets/controls",
          "model_module_version": "1.5.0",
          "model_name": "DescriptionStyleModel",
          "state": {
            "_model_module": "@jupyter-widgets/controls",
            "_model_module_version": "1.5.0",
            "_model_name": "DescriptionStyleModel",
            "_view_count": null,
            "_view_module": "@jupyter-widgets/base",
            "_view_module_version": "1.2.0",
            "_view_name": "StyleView",
            "description_width": ""
          }
        },
        "79a305ea6e354fa2910fad29669fff5d": {
          "model_module": "@jupyter-widgets/controls",
          "model_module_version": "1.5.0",
          "model_name": "DescriptionStyleModel",
          "state": {
            "_model_module": "@jupyter-widgets/controls",
            "_model_module_version": "1.5.0",
            "_model_name": "DescriptionStyleModel",
            "_view_count": null,
            "_view_module": "@jupyter-widgets/base",
            "_view_module_version": "1.2.0",
            "_view_name": "StyleView",
            "description_width": ""
          }
        },
        "7a235d9047bd4853b6d1629eafa94f56": {
          "model_module": "@jupyter-widgets/base",
          "model_module_version": "1.2.0",
          "model_name": "LayoutModel",
          "state": {
            "_model_module": "@jupyter-widgets/base",
            "_model_module_version": "1.2.0",
            "_model_name": "LayoutModel",
            "_view_count": null,
            "_view_module": "@jupyter-widgets/base",
            "_view_module_version": "1.2.0",
            "_view_name": "LayoutView",
            "align_content": null,
            "align_items": null,
            "align_self": null,
            "border": null,
            "bottom": null,
            "display": null,
            "flex": null,
            "flex_flow": null,
            "grid_area": null,
            "grid_auto_columns": null,
            "grid_auto_flow": null,
            "grid_auto_rows": null,
            "grid_column": null,
            "grid_gap": null,
            "grid_row": null,
            "grid_template_areas": null,
            "grid_template_columns": null,
            "grid_template_rows": null,
            "height": null,
            "justify_content": null,
            "justify_items": null,
            "left": null,
            "margin": null,
            "max_height": null,
            "max_width": null,
            "min_height": null,
            "min_width": null,
            "object_fit": null,
            "object_position": null,
            "order": null,
            "overflow": null,
            "overflow_x": null,
            "overflow_y": null,
            "padding": null,
            "right": null,
            "top": null,
            "visibility": null,
            "width": null
          }
        },
        "7ae8334e2c654309aeb5f6134d562daa": {
          "model_module": "@jupyter-widgets/base",
          "model_module_version": "1.2.0",
          "model_name": "LayoutModel",
          "state": {
            "_model_module": "@jupyter-widgets/base",
            "_model_module_version": "1.2.0",
            "_model_name": "LayoutModel",
            "_view_count": null,
            "_view_module": "@jupyter-widgets/base",
            "_view_module_version": "1.2.0",
            "_view_name": "LayoutView",
            "align_content": null,
            "align_items": null,
            "align_self": null,
            "border": null,
            "bottom": null,
            "display": null,
            "flex": null,
            "flex_flow": null,
            "grid_area": null,
            "grid_auto_columns": null,
            "grid_auto_flow": null,
            "grid_auto_rows": null,
            "grid_column": null,
            "grid_gap": null,
            "grid_row": null,
            "grid_template_areas": null,
            "grid_template_columns": null,
            "grid_template_rows": null,
            "height": null,
            "justify_content": null,
            "justify_items": null,
            "left": null,
            "margin": null,
            "max_height": null,
            "max_width": null,
            "min_height": null,
            "min_width": null,
            "object_fit": null,
            "object_position": null,
            "order": null,
            "overflow": null,
            "overflow_x": null,
            "overflow_y": null,
            "padding": null,
            "right": null,
            "top": null,
            "visibility": null,
            "width": null
          }
        },
        "7b06e4ad1b95438ab42bcac17b954bb4": {
          "model_module": "@jupyter-widgets/base",
          "model_module_version": "1.2.0",
          "model_name": "LayoutModel",
          "state": {
            "_model_module": "@jupyter-widgets/base",
            "_model_module_version": "1.2.0",
            "_model_name": "LayoutModel",
            "_view_count": null,
            "_view_module": "@jupyter-widgets/base",
            "_view_module_version": "1.2.0",
            "_view_name": "LayoutView",
            "align_content": null,
            "align_items": null,
            "align_self": null,
            "border": null,
            "bottom": null,
            "display": null,
            "flex": null,
            "flex_flow": null,
            "grid_area": null,
            "grid_auto_columns": null,
            "grid_auto_flow": null,
            "grid_auto_rows": null,
            "grid_column": null,
            "grid_gap": null,
            "grid_row": null,
            "grid_template_areas": null,
            "grid_template_columns": null,
            "grid_template_rows": null,
            "height": null,
            "justify_content": null,
            "justify_items": null,
            "left": null,
            "margin": null,
            "max_height": null,
            "max_width": null,
            "min_height": null,
            "min_width": null,
            "object_fit": null,
            "object_position": null,
            "order": null,
            "overflow": null,
            "overflow_x": null,
            "overflow_y": null,
            "padding": null,
            "right": null,
            "top": null,
            "visibility": null,
            "width": null
          }
        },
        "7d8026df03f9476c881d8a013674204e": {
          "model_module": "@jupyter-widgets/controls",
          "model_module_version": "1.5.0",
          "model_name": "HTMLModel",
          "state": {
            "_dom_classes": [],
            "_model_module": "@jupyter-widgets/controls",
            "_model_module_version": "1.5.0",
            "_model_name": "HTMLModel",
            "_view_count": null,
            "_view_module": "@jupyter-widgets/controls",
            "_view_module_version": "1.5.0",
            "_view_name": "HTMLView",
            "description": "",
            "description_tooltip": null,
            "layout": "IPY_MODEL_63f3bfa8174f4c98bafd4337778a3771",
            "placeholder": "​",
            "style": "IPY_MODEL_79a305ea6e354fa2910fad29669fff5d",
            "value": " 1.33G/1.33G [00:13&lt;00:00, 111MB/s]"
          }
        },
        "845b9b6a5d8f4a37b4aee8950aadc75a": {
          "model_module": "@jupyter-widgets/controls",
          "model_module_version": "1.5.0",
          "model_name": "DescriptionStyleModel",
          "state": {
            "_model_module": "@jupyter-widgets/controls",
            "_model_module_version": "1.5.0",
            "_model_name": "DescriptionStyleModel",
            "_view_count": null,
            "_view_module": "@jupyter-widgets/base",
            "_view_module_version": "1.2.0",
            "_view_name": "StyleView",
            "description_width": ""
          }
        },
        "9a04d81b9b8f4453b85d69c5ae9892e3": {
          "model_module": "@jupyter-widgets/controls",
          "model_module_version": "1.5.0",
          "model_name": "DescriptionStyleModel",
          "state": {
            "_model_module": "@jupyter-widgets/controls",
            "_model_module_version": "1.5.0",
            "_model_name": "DescriptionStyleModel",
            "_view_count": null,
            "_view_module": "@jupyter-widgets/base",
            "_view_module_version": "1.2.0",
            "_view_name": "StyleView",
            "description_width": ""
          }
        },
        "a1277bc3580f4e288291f66ad8456f55": {
          "model_module": "@jupyter-widgets/controls",
          "model_module_version": "1.5.0",
          "model_name": "ProgressStyleModel",
          "state": {
            "_model_module": "@jupyter-widgets/controls",
            "_model_module_version": "1.5.0",
            "_model_name": "ProgressStyleModel",
            "_view_count": null,
            "_view_module": "@jupyter-widgets/base",
            "_view_module_version": "1.2.0",
            "_view_name": "StyleView",
            "bar_color": null,
            "description_width": ""
          }
        },
        "a41cb6544454452b8cf538082896d689": {
          "model_module": "@jupyter-widgets/controls",
          "model_module_version": "1.5.0",
          "model_name": "ProgressStyleModel",
          "state": {
            "_model_module": "@jupyter-widgets/controls",
            "_model_module_version": "1.5.0",
            "_model_name": "ProgressStyleModel",
            "_view_count": null,
            "_view_module": "@jupyter-widgets/base",
            "_view_module_version": "1.2.0",
            "_view_name": "StyleView",
            "bar_color": null,
            "description_width": ""
          }
        },
        "aac45caec68941829dd9f106159af037": {
          "model_module": "@jupyter-widgets/base",
          "model_module_version": "1.2.0",
          "model_name": "LayoutModel",
          "state": {
            "_model_module": "@jupyter-widgets/base",
            "_model_module_version": "1.2.0",
            "_model_name": "LayoutModel",
            "_view_count": null,
            "_view_module": "@jupyter-widgets/base",
            "_view_module_version": "1.2.0",
            "_view_name": "LayoutView",
            "align_content": null,
            "align_items": null,
            "align_self": null,
            "border": null,
            "bottom": null,
            "display": null,
            "flex": null,
            "flex_flow": null,
            "grid_area": null,
            "grid_auto_columns": null,
            "grid_auto_flow": null,
            "grid_auto_rows": null,
            "grid_column": null,
            "grid_gap": null,
            "grid_row": null,
            "grid_template_areas": null,
            "grid_template_columns": null,
            "grid_template_rows": null,
            "height": null,
            "justify_content": null,
            "justify_items": null,
            "left": null,
            "margin": null,
            "max_height": null,
            "max_width": null,
            "min_height": null,
            "min_width": null,
            "object_fit": null,
            "object_position": null,
            "order": null,
            "overflow": null,
            "overflow_x": null,
            "overflow_y": null,
            "padding": null,
            "right": null,
            "top": null,
            "visibility": null,
            "width": null
          }
        },
        "ba077970e9794e338d52bc7b1ce1d022": {
          "model_module": "@jupyter-widgets/controls",
          "model_module_version": "1.5.0",
          "model_name": "HBoxModel",
          "state": {
            "_dom_classes": [],
            "_model_module": "@jupyter-widgets/controls",
            "_model_module_version": "1.5.0",
            "_model_name": "HBoxModel",
            "_view_count": null,
            "_view_module": "@jupyter-widgets/controls",
            "_view_module_version": "1.5.0",
            "_view_name": "HBoxView",
            "box_style": "",
            "children": [
              "IPY_MODEL_f2864806722a48e5a8a984a83526bd09",
              "IPY_MODEL_1116eaae1956411bad85c6db59b03ec8",
              "IPY_MODEL_c468dae275c148fdb7b2af5ccf139545"
            ],
            "layout": "IPY_MODEL_31d3eef14faa4ff18ac77cd3f8b5e558"
          }
        },
        "c2b72e74daa5471f8adc216c0d341811": {
          "model_module": "@jupyter-widgets/base",
          "model_module_version": "1.2.0",
          "model_name": "LayoutModel",
          "state": {
            "_model_module": "@jupyter-widgets/base",
            "_model_module_version": "1.2.0",
            "_model_name": "LayoutModel",
            "_view_count": null,
            "_view_module": "@jupyter-widgets/base",
            "_view_module_version": "1.2.0",
            "_view_name": "LayoutView",
            "align_content": null,
            "align_items": null,
            "align_self": null,
            "border": null,
            "bottom": null,
            "display": null,
            "flex": null,
            "flex_flow": null,
            "grid_area": null,
            "grid_auto_columns": null,
            "grid_auto_flow": null,
            "grid_auto_rows": null,
            "grid_column": null,
            "grid_gap": null,
            "grid_row": null,
            "grid_template_areas": null,
            "grid_template_columns": null,
            "grid_template_rows": null,
            "height": null,
            "justify_content": null,
            "justify_items": null,
            "left": null,
            "margin": null,
            "max_height": null,
            "max_width": null,
            "min_height": null,
            "min_width": null,
            "object_fit": null,
            "object_position": null,
            "order": null,
            "overflow": null,
            "overflow_x": null,
            "overflow_y": null,
            "padding": null,
            "right": null,
            "top": null,
            "visibility": null,
            "width": null
          }
        },
        "c468dae275c148fdb7b2af5ccf139545": {
          "model_module": "@jupyter-widgets/controls",
          "model_module_version": "1.5.0",
          "model_name": "HTMLModel",
          "state": {
            "_dom_classes": [],
            "_model_module": "@jupyter-widgets/controls",
            "_model_module_version": "1.5.0",
            "_model_name": "HTMLModel",
            "_view_count": null,
            "_view_module": "@jupyter-widgets/controls",
            "_view_module_version": "1.5.0",
            "_view_name": "HTMLView",
            "description": "",
            "description_tooltip": null,
            "layout": "IPY_MODEL_412cb3be745140b0bd44ee6f37cfcb17",
            "placeholder": "​",
            "style": "IPY_MODEL_1b509392f09347e18c6feb39490c4a92",
            "value": " 4.31M/4.31M [00:00&lt;00:00, 25.8MB/s]"
          }
        },
        "c5ac48780f50427cbeac9271b7657ddf": {
          "model_module": "@jupyter-widgets/controls",
          "model_module_version": "1.5.0",
          "model_name": "HTMLModel",
          "state": {
            "_dom_classes": [],
            "_model_module": "@jupyter-widgets/controls",
            "_model_module_version": "1.5.0",
            "_model_name": "HTMLModel",
            "_view_count": null,
            "_view_module": "@jupyter-widgets/controls",
            "_view_module_version": "1.5.0",
            "_view_name": "HTMLView",
            "description": "",
            "description_tooltip": null,
            "layout": "IPY_MODEL_c2b72e74daa5471f8adc216c0d341811",
            "placeholder": "​",
            "style": "IPY_MODEL_f6e8c64d43f8400cbdb58cc661525b15",
            "value": " 52.0/52.0 [00:00&lt;00:00, 2.56kB/s]"
          }
        },
        "c8128d3fcee54884ac993b51f6f299e0": {
          "model_module": "@jupyter-widgets/controls",
          "model_module_version": "1.5.0",
          "model_name": "HBoxModel",
          "state": {
            "_dom_classes": [],
            "_model_module": "@jupyter-widgets/controls",
            "_model_module_version": "1.5.0",
            "_model_name": "HBoxModel",
            "_view_count": null,
            "_view_module": "@jupyter-widgets/controls",
            "_view_module_version": "1.5.0",
            "_view_name": "HBoxView",
            "box_style": "",
            "children": [
              "IPY_MODEL_1679fa2ab0dd4deab14d8e171fdad5a4",
              "IPY_MODEL_ef8056f80b0d446da9c77c59017f88d7",
              "IPY_MODEL_c5ac48780f50427cbeac9271b7657ddf"
            ],
            "layout": "IPY_MODEL_385cc4be6d5047dba5079b65fa39f14f"
          }
        },
        "ce2bbf8db8ad45c19e4581cfc5a77b72": {
          "model_module": "@jupyter-widgets/controls",
          "model_module_version": "1.5.0",
          "model_name": "HTMLModel",
          "state": {
            "_dom_classes": [],
            "_model_module": "@jupyter-widgets/controls",
            "_model_module_version": "1.5.0",
            "_model_name": "HTMLModel",
            "_view_count": null,
            "_view_module": "@jupyter-widgets/controls",
            "_view_module_version": "1.5.0",
            "_view_name": "HTMLView",
            "description": "",
            "description_tooltip": null,
            "layout": "IPY_MODEL_6b1b7aa5f95846d48dabd793a1532606",
            "placeholder": "​",
            "style": "IPY_MODEL_3a9cc05c7af44412bf84cbe112532275",
            "value": "Downloading (…)lve/main/config.json: 100%"
          }
        },
        "d963f04492014bd483db28e274042a60": {
          "model_module": "@jupyter-widgets/base",
          "model_module_version": "1.2.0",
          "model_name": "LayoutModel",
          "state": {
            "_model_module": "@jupyter-widgets/base",
            "_model_module_version": "1.2.0",
            "_model_name": "LayoutModel",
            "_view_count": null,
            "_view_module": "@jupyter-widgets/base",
            "_view_module_version": "1.2.0",
            "_view_name": "LayoutView",
            "align_content": null,
            "align_items": null,
            "align_self": null,
            "border": null,
            "bottom": null,
            "display": null,
            "flex": null,
            "flex_flow": null,
            "grid_area": null,
            "grid_auto_columns": null,
            "grid_auto_flow": null,
            "grid_auto_rows": null,
            "grid_column": null,
            "grid_gap": null,
            "grid_row": null,
            "grid_template_areas": null,
            "grid_template_columns": null,
            "grid_template_rows": null,
            "height": null,
            "justify_content": null,
            "justify_items": null,
            "left": null,
            "margin": null,
            "max_height": null,
            "max_width": null,
            "min_height": null,
            "min_width": null,
            "object_fit": null,
            "object_position": null,
            "order": null,
            "overflow": null,
            "overflow_x": null,
            "overflow_y": null,
            "padding": null,
            "right": null,
            "top": null,
            "visibility": null,
            "width": null
          }
        },
        "e724111e0f6844fa95b433284298861c": {
          "model_module": "@jupyter-widgets/base",
          "model_module_version": "1.2.0",
          "model_name": "LayoutModel",
          "state": {
            "_model_module": "@jupyter-widgets/base",
            "_model_module_version": "1.2.0",
            "_model_name": "LayoutModel",
            "_view_count": null,
            "_view_module": "@jupyter-widgets/base",
            "_view_module_version": "1.2.0",
            "_view_name": "LayoutView",
            "align_content": null,
            "align_items": null,
            "align_self": null,
            "border": null,
            "bottom": null,
            "display": null,
            "flex": null,
            "flex_flow": null,
            "grid_area": null,
            "grid_auto_columns": null,
            "grid_auto_flow": null,
            "grid_auto_rows": null,
            "grid_column": null,
            "grid_gap": null,
            "grid_row": null,
            "grid_template_areas": null,
            "grid_template_columns": null,
            "grid_template_rows": null,
            "height": null,
            "justify_content": null,
            "justify_items": null,
            "left": null,
            "margin": null,
            "max_height": null,
            "max_width": null,
            "min_height": null,
            "min_width": null,
            "object_fit": null,
            "object_position": null,
            "order": null,
            "overflow": null,
            "overflow_x": null,
            "overflow_y": null,
            "padding": null,
            "right": null,
            "top": null,
            "visibility": null,
            "width": null
          }
        },
        "ef8056f80b0d446da9c77c59017f88d7": {
          "model_module": "@jupyter-widgets/controls",
          "model_module_version": "1.5.0",
          "model_name": "FloatProgressModel",
          "state": {
            "_dom_classes": [],
            "_model_module": "@jupyter-widgets/controls",
            "_model_module_version": "1.5.0",
            "_model_name": "FloatProgressModel",
            "_view_count": null,
            "_view_module": "@jupyter-widgets/controls",
            "_view_module_version": "1.5.0",
            "_view_name": "ProgressView",
            "bar_style": "success",
            "description": "",
            "description_tooltip": null,
            "layout": "IPY_MODEL_7b06e4ad1b95438ab42bcac17b954bb4",
            "max": 52,
            "min": 0,
            "orientation": "horizontal",
            "style": "IPY_MODEL_a41cb6544454452b8cf538082896d689",
            "value": 52
          }
        },
        "efea329b44fc4ae3a296b16f7107e256": {
          "model_module": "@jupyter-widgets/controls",
          "model_module_version": "1.5.0",
          "model_name": "DescriptionStyleModel",
          "state": {
            "_model_module": "@jupyter-widgets/controls",
            "_model_module_version": "1.5.0",
            "_model_name": "DescriptionStyleModel",
            "_view_count": null,
            "_view_module": "@jupyter-widgets/base",
            "_view_module_version": "1.2.0",
            "_view_name": "StyleView",
            "description_width": ""
          }
        },
        "f2864806722a48e5a8a984a83526bd09": {
          "model_module": "@jupyter-widgets/controls",
          "model_module_version": "1.5.0",
          "model_name": "HTMLModel",
          "state": {
            "_dom_classes": [],
            "_model_module": "@jupyter-widgets/controls",
            "_model_module_version": "1.5.0",
            "_model_name": "HTMLModel",
            "_view_count": null,
            "_view_module": "@jupyter-widgets/controls",
            "_view_module_version": "1.5.0",
            "_view_name": "HTMLView",
            "description": "",
            "description_tooltip": null,
            "layout": "IPY_MODEL_7ae8334e2c654309aeb5f6134d562daa",
            "placeholder": "​",
            "style": "IPY_MODEL_9a04d81b9b8f4453b85d69c5ae9892e3",
            "value": "Downloading spm.model: 100%"
          }
        },
        "f6e8c64d43f8400cbdb58cc661525b15": {
          "model_module": "@jupyter-widgets/controls",
          "model_module_version": "1.5.0",
          "model_name": "DescriptionStyleModel",
          "state": {
            "_model_module": "@jupyter-widgets/controls",
            "_model_module_version": "1.5.0",
            "_model_name": "DescriptionStyleModel",
            "_view_count": null,
            "_view_module": "@jupyter-widgets/base",
            "_view_module_version": "1.2.0",
            "_view_name": "StyleView",
            "description_width": ""
          }
        },
        "fc46ffd786b74d0a9a187fc9bc3dd489": {
          "model_module": "@jupyter-widgets/base",
          "model_module_version": "1.2.0",
          "model_name": "LayoutModel",
          "state": {
            "_model_module": "@jupyter-widgets/base",
            "_model_module_version": "1.2.0",
            "_model_name": "LayoutModel",
            "_view_count": null,
            "_view_module": "@jupyter-widgets/base",
            "_view_module_version": "1.2.0",
            "_view_name": "LayoutView",
            "align_content": null,
            "align_items": null,
            "align_self": null,
            "border": null,
            "bottom": null,
            "display": null,
            "flex": null,
            "flex_flow": null,
            "grid_area": null,
            "grid_auto_columns": null,
            "grid_auto_flow": null,
            "grid_auto_rows": null,
            "grid_column": null,
            "grid_gap": null,
            "grid_row": null,
            "grid_template_areas": null,
            "grid_template_columns": null,
            "grid_template_rows": null,
            "height": null,
            "justify_content": null,
            "justify_items": null,
            "left": null,
            "margin": null,
            "max_height": null,
            "max_width": null,
            "min_height": null,
            "min_width": null,
            "object_fit": null,
            "object_position": null,
            "order": null,
            "overflow": null,
            "overflow_x": null,
            "overflow_y": null,
            "padding": null,
            "right": null,
            "top": null,
            "visibility": null,
            "width": null
          }
        }
      }
    }
  },
  "nbformat": 4,
  "nbformat_minor": 0
}

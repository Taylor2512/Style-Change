{
  "cells": [
    {
      "cell_type": "code",
      "execution_count": 1,
      "metadata": {
        "id": "jmDhWssy-MhK"
      },
      "outputs": [
        {
          "name": "stderr",
          "output_type": "stream",
          "text": [
            "c:\\Python311\\Lib\\site-packages\\tqdm\\auto.py:21: TqdmWarning: IProgress not found. Please update jupyter and ipywidgets. See https://ipywidgets.readthedocs.io/en/stable/user_install.html\n",
            "  from .autonotebook import tqdm as notebook_tqdm\n"
          ]
        }
      ],
      "source": [
        "import pandas as pd\n",
        "import numpy as np\n",
        "import plotly\n",
        "import datetime\n",
        "from torch.utils.data import Dataset, DataLoader\n",
        "import torch\n",
        "import torch.nn as nn\n",
        "import re,os\n",
        "import unicodedata\n",
        "import matplotlib.pyplot as plt\n",
        "import itertools\n",
        "import sklearn.metrics   as metrics\n",
        "from sklearn import metrics, feature_selection\n",
        "from sklearn.metrics import roc_auc_score, f1_score, brier_score_loss,accuracy_score,classification_report,accuracy_score,confusion_matrix,recall_score,precision_score,roc_curve\n",
        "from transformers import Trainer, TrainingArguments, EvalPrediction,DataCollatorWithPadding, Trainer, TrainingArguments, AutoModelForSequenceClassification\n",
        "from transformers import BertModel, BertConfig, BertTokenizer, DebertaConfig, DebertaModel, DebertaTokenizer,DebertaV2Model, DebertaV2Config,DebertaV2Tokenizer,AutoTokenizer,AutoModel,AutoConfig\n",
        "\n",
        "from transformers.modeling_outputs import SequenceClassifierOutput\n",
        "from bs4 import BeautifulSoup"
      ]
    },
    {
      "cell_type": "code",
      "execution_count": 2,
      "metadata": {},
      "outputs": [],
      "source": [
        "now = datetime.datetime.now()\n",
        "date_string = now.strftime(\"%Y-%m-%d_%H-%M-%S\")"
      ]
    },
    {
      "cell_type": "code",
      "execution_count": 3,
      "metadata": {
        "id": "4xXE3vLU-MhL"
      },
      "outputs": [],
      "source": [
        "device=torch.device('cuda') if torch.cuda.is_available else torch.device('cpu')"
      ]
    },
    {
      "cell_type": "code",
      "execution_count": 4,
      "metadata": {
        "colab": {
          "base_uri": "https://localhost:8080/",
          "height": 286,
          "referenced_widgets": [
            "c8128d3fcee54884ac993b51f6f299e0",
            "1679fa2ab0dd4deab14d8e171fdad5a4",
            "ef8056f80b0d446da9c77c59017f88d7",
            "c5ac48780f50427cbeac9271b7657ddf",
            "385cc4be6d5047dba5079b65fa39f14f",
            "d963f04492014bd483db28e274042a60",
            "6e7481373d88460a9f645fe44b1f0168",
            "7b06e4ad1b95438ab42bcac17b954bb4",
            "a41cb6544454452b8cf538082896d689",
            "c2b72e74daa5471f8adc216c0d341811",
            "f6e8c64d43f8400cbdb58cc661525b15",
            "221c83536b1047a58165975dd9388e6b",
            "ce2bbf8db8ad45c19e4581cfc5a77b72",
            "0d267a4ade71480fa723479ccb8f2fde",
            "4feb40f80d3c415a9923ac64355317a4",
            "aac45caec68941829dd9f106159af037",
            "6b1b7aa5f95846d48dabd793a1532606",
            "3a9cc05c7af44412bf84cbe112532275",
            "fc46ffd786b74d0a9a187fc9bc3dd489",
            "5fb864d583154f0b87f6565d92dbd76c",
            "e724111e0f6844fa95b433284298861c",
            "845b9b6a5d8f4a37b4aee8950aadc75a",
            "ba077970e9794e338d52bc7b1ce1d022",
            "f2864806722a48e5a8a984a83526bd09",
            "1116eaae1956411bad85c6db59b03ec8",
            "c468dae275c148fdb7b2af5ccf139545",
            "31d3eef14faa4ff18ac77cd3f8b5e558",
            "7ae8334e2c654309aeb5f6134d562daa",
            "9a04d81b9b8f4453b85d69c5ae9892e3",
            "27dff8495f344e4fbb1cd8ddf9b5df1d",
            "a1277bc3580f4e288291f66ad8456f55",
            "412cb3be745140b0bd44ee6f37cfcb17",
            "1b509392f09347e18c6feb39490c4a92",
            "146f6467a1ef458d82f4da8aeb436ca5",
            "4278d17167e74952a1548777506bcf0d",
            "2ba08de02fe94044a217094fd0f52cdd",
            "7d8026df03f9476c881d8a013674204e",
            "25acc45628c2467d881edd3c0e7e6981",
            "7a235d9047bd4853b6d1629eafa94f56",
            "efea329b44fc4ae3a296b16f7107e256",
            "6d6570099ebd42e38edb066dac33952a",
            "6d90c2c898ca419fa20aa58ccee9fd6f",
            "63f3bfa8174f4c98bafd4337778a3771",
            "79a305ea6e354fa2910fad29669fff5d"
          ]
        },
        "id": "8NgV1kMXeWHM",
        "outputId": "bbdaf3fc-a4bc-4500-ced3-1414e210f2c1"
      },
      "outputs": [
        {
          "name": "stderr",
          "output_type": "stream",
          "text": [
            "Some weights of the model checkpoint at microsoft/deberta-base were not used when initializing DebertaModel: ['lm_predictions.lm_head.LayerNorm.weight', 'lm_predictions.lm_head.dense.bias', 'lm_predictions.lm_head.dense.weight', 'lm_predictions.lm_head.bias', 'lm_predictions.lm_head.LayerNorm.bias']\n",
            "- This IS expected if you are initializing DebertaModel from the checkpoint of a model trained on another task or with another architecture (e.g. initializing a BertForSequenceClassification model from a BertForPreTraining model).\n",
            "- This IS NOT expected if you are initializing DebertaModel from the checkpoint of a model that you expect to be exactly identical (initializing a BertForSequenceClassification model from a BertForSequenceClassification model).\n"
          ]
        }
      ],
      "source": [
        "#CON BERT\n",
        "# tokenizer = BertTokenizer.from_pretrained('bert-base-uncased')\n",
        "# config = BertConfig.from_pretrained('bert-base-uncased', output_hidden_states=True, output_attentions=True)\n",
        "# MODEL = BertModel.from_pretrained('bert-base-uncased', config=config)\n",
        "# CON DEBERTA\n",
        "tokenizer = DebertaTokenizer.from_pretrained(\"microsoft/deberta-base\")\n",
        "config = DebertaConfig.from_pretrained(\"microsoft/deberta-base\", output_hidden_states=True, output_attentions=True)\n",
        "MODEL = DebertaModel.from_pretrained(\"microsoft/deberta-base\", config=config)\n",
        "\n",
        "# CON MDEBERTA\n",
        "\n",
        "# tokenizer = AutoTokenizer.from_pretrained(\"microsoft/mdeberta-v3-base\")\n",
        "# config = AutoConfig.from_pretrained(\"microsoft/mdeberta-v3-base\",output_hidden_states=True, output_attentions=True)\n",
        "# MODEL = AutoModel.from_pretrained(\"microsoft/mdeberta-v3-base\", config=config)\n",
        "\n",
        "# MODEL_TYPE = 'bert'\n",
        "MODEL_TYPE = 'deberta'\n",
        "# MODEL_TYPE = 'bert'\n",
        "MODEL_TYPE = 'deberta'"
      ]
    },
    {
      "cell_type": "code",
      "execution_count": 5,
      "metadata": {
        "id": "LdENXpv-cqiv"
      },
      "outputs": [],
      "source": [
        "dataTrainer = pd.read_json(\"C:/DataSets/release/pan23-multi-author-analysis-dataset1/pan23-multi-author-analysis-dataset1-train/ebertaTokenizer.json\")\n",
        "dataEvaluation = pd.read_json(\"C:/DataSets/release/pan23-multi-author-analysis-dataset1/pan23-multi-author-analysis-dataset1-validation/ebertaTokenizer.json\")"
      ]
    },
    {
      "cell_type": "code",
      "execution_count": 6,
      "metadata": {},
      "outputs": [],
      "source": [
        "rutabase = os.getcwd()  # Obtiene la ruta base del proyecto actual\n"
      ]
    },
    {
      "cell_type": "code",
      "execution_count": 7,
      "metadata": {},
      "outputs": [],
      "source": [
        "def GenerarDirectorio(name):\n",
        "    directorio = os.path.join(rutabase, name)\n",
        "    if not os.path.exists(directorio):\n",
        "        os.makedirs(directorio)\n",
        "    return directorio"
      ]
    },
    {
      "cell_type": "code",
      "execution_count": 8,
      "metadata": {
        "colab": {
          "base_uri": "https://localhost:8080/",
          "height": 423
        },
        "id": "Ccj6bO4fegKR",
        "outputId": "b55e562b-0075-421a-8b0a-47e609898cf4"
      },
      "outputs": [],
      "source": [
        "dataTrainer=dataTrainer.iloc[:3,:]"
      ]
    },
    {
      "cell_type": "code",
      "execution_count": 9,
      "metadata": {},
      "outputs": [
        {
          "data": {
            "text/html": [
              "<div>\n",
              "<style scoped>\n",
              "    .dataframe tbody tr th:only-of-type {\n",
              "        vertical-align: middle;\n",
              "    }\n",
              "\n",
              "    .dataframe tbody tr th {\n",
              "        vertical-align: top;\n",
              "    }\n",
              "\n",
              "    .dataframe thead th {\n",
              "        text-align: right;\n",
              "    }\n",
              "</style>\n",
              "<table border=\"1\" class=\"dataframe\">\n",
              "  <thead>\n",
              "    <tr style=\"text-align: right;\">\n",
              "      <th></th>\n",
              "      <th>id</th>\n",
              "      <th>pair</th>\n",
              "      <th>same</th>\n",
              "      <th>text_vec</th>\n",
              "    </tr>\n",
              "  </thead>\n",
              "  <tbody>\n",
              "    <tr>\n",
              "      <th>0</th>\n",
              "      <td>3408</td>\n",
              "      <td>[\"For clarity, you retain all of your ownershi...</td>\n",
              "      <td>1</td>\n",
              "      <td>[1, 286, 10498, 6, 47, 7615, 70, 9, 110, 4902,...</td>\n",
              "    </tr>\n",
              "    <tr>\n",
              "      <th>1</th>\n",
              "      <td>3408</td>\n",
              "      <td>[Other people have quoted the ToS so I'm not g...</td>\n",
              "      <td>1</td>\n",
              "      <td>[1, 24989, 82, 33, 5304, 5, 598, 104, 98, 38, ...</td>\n",
              "    </tr>\n",
              "    <tr>\n",
              "      <th>2</th>\n",
              "      <td>2796</td>\n",
              "      <td>[So you should pull up a record of how many go...</td>\n",
              "      <td>1</td>\n",
              "      <td>[1, 2847, 47, 197, 2999, 62, 10, 638, 9, 141, ...</td>\n",
              "    </tr>\n",
              "  </tbody>\n",
              "</table>\n",
              "</div>"
            ],
            "text/plain": [
              "     id                                               pair  same  \\\n",
              "0  3408  [\"For clarity, you retain all of your ownershi...     1   \n",
              "1  3408  [Other people have quoted the ToS so I'm not g...     1   \n",
              "2  2796  [So you should pull up a record of how many go...     1   \n",
              "\n",
              "                                            text_vec  \n",
              "0  [1, 286, 10498, 6, 47, 7615, 70, 9, 110, 4902,...  \n",
              "1  [1, 24989, 82, 33, 5304, 5, 598, 104, 98, 38, ...  \n",
              "2  [1, 2847, 47, 197, 2999, 62, 10, 638, 9, 141, ...  "
            ]
          },
          "execution_count": 9,
          "metadata": {},
          "output_type": "execute_result"
        }
      ],
      "source": [
        "dataTrainer"
      ]
    },
    {
      "cell_type": "code",
      "execution_count": 10,
      "metadata": {
        "colab": {
          "base_uri": "https://localhost:8080/",
          "height": 423
        },
        "id": "S5x-gPu5ejY-",
        "outputId": "888ca785-0fba-4059-8ace-e8c0299f825b"
      },
      "outputs": [],
      "source": [
        "dataEvaluation=dataEvaluation.iloc[:2,:]"
      ]
    },
    {
      "cell_type": "code",
      "execution_count": 11,
      "metadata": {},
      "outputs": [
        {
          "data": {
            "text/html": [
              "<div>\n",
              "<style scoped>\n",
              "    .dataframe tbody tr th:only-of-type {\n",
              "        vertical-align: middle;\n",
              "    }\n",
              "\n",
              "    .dataframe tbody tr th {\n",
              "        vertical-align: top;\n",
              "    }\n",
              "\n",
              "    .dataframe thead th {\n",
              "        text-align: right;\n",
              "    }\n",
              "</style>\n",
              "<table border=\"1\" class=\"dataframe\">\n",
              "  <thead>\n",
              "    <tr style=\"text-align: right;\">\n",
              "      <th></th>\n",
              "      <th>id</th>\n",
              "      <th>pair</th>\n",
              "      <th>same</th>\n",
              "      <th>text_vec</th>\n",
              "    </tr>\n",
              "  </thead>\n",
              "  <tbody>\n",
              "    <tr>\n",
              "      <th>0</th>\n",
              "      <td>1</td>\n",
              "      <td>[I think the premise of your question is off t...</td>\n",
              "      <td>1</td>\n",
              "      <td>[1, 100, 206, 5, 18805, 9, 110, 864, 16, 160, ...</td>\n",
              "    </tr>\n",
              "    <tr>\n",
              "      <th>1</th>\n",
              "      <td>10</td>\n",
              "      <td>[You bought this in good faith and without cla...</td>\n",
              "      <td>1</td>\n",
              "      <td>[1, 1185, 2162, 42, 11, 205, 3975, 8, 396, 144...</td>\n",
              "    </tr>\n",
              "  </tbody>\n",
              "</table>\n",
              "</div>"
            ],
            "text/plain": [
              "   id                                               pair  same  \\\n",
              "0   1  [I think the premise of your question is off t...     1   \n",
              "1  10  [You bought this in good faith and without cla...     1   \n",
              "\n",
              "                                            text_vec  \n",
              "0  [1, 100, 206, 5, 18805, 9, 110, 864, 16, 160, ...  \n",
              "1  [1, 1185, 2162, 42, 11, 205, 3975, 8, 396, 144...  "
            ]
          },
          "execution_count": 11,
          "metadata": {},
          "output_type": "execute_result"
        }
      ],
      "source": [
        "dataEvaluation"
      ]
    },
    {
      "cell_type": "code",
      "execution_count": 12,
      "metadata": {
        "id": "8LsqH5NA-MhQ"
      },
      "outputs": [],
      "source": [
        "class MyDataset(Dataset):             # define una nueva clase MyDataset que hereda de Dataset\n",
        "    def __init__(self, dataframe):    # define el constructor  \"__init__\"  que toma un solo argumento dataframe\n",
        "        #print(dataframe)\n",
        "        self.len = len(dataframe)   # calcula la longitud de la entrada dataframe usando la funcion \"len\" y la almacena como una variable de instancia \"self.len\"\n",
        "        self.data = dataframe       # se asigna la entrada dataframe a una variable de instancia \"self.data\"\n",
        "\n",
        "\n",
        "    def __getitem__(self, index):   # define el método \"__getitem__\" que toma un solo argumento index\n",
        "        ''' el metodo __getitem__ devuelve un diccionario que contiene cuatro claves: 'input_ids', 'attention_mask', 'labels'y 'added_features' '''\n",
        "\n",
        "        input_ids = torch.tensor(self.data.text_vec.iloc[index]).cpu() # almacena las características de los datos de \"text_vec\" ​​que se han convertido en un vector de longitud fija.\n",
        "        #attention_mask = torch.ones([input_ids.size(0)]).cpu()  # attention_mask almacena los elementos de entrada que se debe prestar atención y cuáles se deben ignorar\n",
        "        #\n",
        "        mask = torch.ones(input_ids.shape,dtype=int)#Crear un tensor con el mismo tamaño que input_ids lleno de unos:\n",
        "        pad_positions = (input_ids == 0)#Identificar las posiciones en input_ids que contienen el token especial [PAD]\n",
        "        mask[pad_positions] = 0 #Actualizar las posiciones correspondientes en mask a cero:\n",
        "        attention_mask = mask #Actualizar las posiciones correspondientes en mask a cero:\n",
        "        #\n",
        "        label = self.data.same.iloc[index] # almacena un valor escalar que representa la etiqueta de salida para la puntuación de complejidad\n",
        "        targets = torch.tensor([1 - label, label])  #ojo probar ESTO ES NUEVO\n",
        "        return {\n",
        "            'input_ids': input_ids,               # devuelve las características de entrada para el punto de datos\n",
        "            'attention_mask': attention_mask,     # devuelve la máscara de atención para el punto de datos\n",
        "            'labels': targets                    # devuelve un valor escalar que representa la puntuación de complejidad\n",
        "        }\n",
        "\n",
        "    def __len__(self):\n",
        "        return self.len   # devuelve la longitud del conjunto de datos personalizado"
      ]
    },
    {
      "cell_type": "code",
      "execution_count": 13,
      "metadata": {
        "id": "mYILtDQCEM5y"
      },
      "outputs": [],
      "source": [
        "train_set, eval_dataset = MyDataset(dataTrainer), MyDataset(dataEvaluation)"
      ]
    },
    {
      "cell_type": "code",
      "execution_count": 14,
      "metadata": {
        "colab": {
          "base_uri": "https://localhost:8080/"
        },
        "id": "WVnmd-nT5bJK",
        "outputId": "8092736d-72a0-4ed0-b6a2-19e3fe9c2185"
      },
      "outputs": [
        {
          "data": {
            "text/plain": [
              "(3, 2)"
            ]
          },
          "execution_count": 14,
          "metadata": {},
          "output_type": "execute_result"
        }
      ],
      "source": [
        "train_set.len, eval_dataset.len"
      ]
    },
    {
      "cell_type": "code",
      "execution_count": 15,
      "metadata": {
        "colab": {
          "base_uri": "https://localhost:8080/"
        },
        "id": "oG2qwMKbeZ5I",
        "outputId": "4f0dc565-ac8e-4858-9195-e2101d7fbcb1"
      },
      "outputs": [
        {
          "data": {
            "text/plain": [
              "<__main__.MyDataset at 0x25e338eb090>"
            ]
          },
          "execution_count": 15,
          "metadata": {},
          "output_type": "execute_result"
        }
      ],
      "source": [
        "train_set"
      ]
    },
    {
      "cell_type": "code",
      "execution_count": 16,
      "metadata": {
        "id": "P8YHC_iv-MhR"
      },
      "outputs": [],
      "source": [
        "class StackedCLSModel(nn.Module):\n",
        "      def __init__(self, model=MODEL, model_type=MODEL_TYPE):\n",
        "        super(StackedCLSModel, self).__init__()\n",
        "        self.model = MODEL\n",
        "        self.model_type = MODEL_TYPE\n",
        "        self.Fusion = nn.Parameter(torch.zeros(12, 1))\n",
        "        self.dropout = nn.Dropout(0.2)\n",
        "        self.funActivacion = nn.ReLU()\n",
        "        self.lin1 = nn.Linear(768, 128)\n",
        "        self.lin2 = nn.Linear(128, 2)\n",
        "        self.loss_func = nn.CrossEntropyLoss()\n",
        "        self.init = 0\n",
        "      def forward(self, input_ids, attention_mask, labels=None):\n",
        "        outputs = self.model(input_ids, attention_mask=attention_mask)\n",
        "        if self.model_type == \"mdeberta\":\n",
        "          cls_tensors = torch.stack([outputs[1][n][:, 0, :] for n in range(1, 13)])\n",
        "        elif self.model_type == \"deberta\":\n",
        "          cls_tensors = torch.stack([outputs[1][n][:, 0, :] for n in range(1, 13)])\n",
        "        t_cls_tensors = cls_tensors.transpose(1, 0)\n",
        "        t_cls_tensors_mean = torch.mean(t_cls_tensors, dim=1)  # Reducción de la dimensión 12 a 2\n",
        "        x = self.lin1(t_cls_tensors_mean)\n",
        "        x = self.dropout(x)\n",
        "        x = self.funActivacion(x)\n",
        "        logit = self.lin2(x)\n",
        "        loss = None\n",
        "        if labels is not None:\n",
        "          loss = self.loss_func(logit, labels.float())\n",
        "          loss = loss.mean()\n",
        "        return SequenceClassifierOutput(loss=loss, logits=logit)\n",
        "      def predict(self, input_ids, attention_mask):\n",
        "          logits = self.forward(input_ids, attention_mask, labels=None)\n",
        "          predicciones = logits.logits.argmax(dim=1)\n",
        "          predicciones =np.argmax(predicciones.tolist(),axis=-1)\n",
        "          return predicciones.tolist()"
      ]
    },
    {
      "cell_type": "code",
      "execution_count": 17,
      "metadata": {
        "id": "cifhG6tW2t-L"
      },
      "outputs": [],
      "source": [
        "def c_at_1(train_data, test_data, threshold=0.5):\n",
        "      n = float(len(test_data))\n",
        "      nc, nu = 0.0, 0.0\n",
        "\n",
        "      for gt_score, pred_score in zip(train_data, test_data):\n",
        "        if pred_score == 0.5:\n",
        "          nu += 1\n",
        "        elif (pred_score > 0.5) == (gt_score > 0.5):\n",
        "          nc += 1.0\n",
        "\n",
        "      return (1 / n) * (nc + (nu * nc / n))\n",
        "\n",
        "def binarize(y, threshold=0.5, triple_valued=False):\n",
        "    y = np.array(y)\n",
        "    y = np.ma.fix_invalid(y, fill_value=threshold)\n",
        "    if triple_valued:\n",
        "        y[y > threshold] = 1\n",
        "    else:\n",
        "        y[y >= threshold] = 1\n",
        "    y[y < threshold] = 0\n",
        "    return y\n",
        "\n",
        "def f_05_u_score(train_data, test_data, pos_label=1, threshold=0.5):\n",
        "\n",
        "      test_data = binarize(test_data)\n",
        "\n",
        "      n_tp = 0\n",
        "      n_fn = 0\n",
        "      n_fp = 0\n",
        "      n_u = 0\n",
        "\n",
        "      for i, pred in enumerate(test_data):\n",
        "        if pred == threshold:\n",
        "          n_u += 1\n",
        "        elif pred == pos_label and pred == train_data[i]:\n",
        "          n_tp += 1\n",
        "        elif pred == pos_label and pred != train_data[i]:\n",
        "          n_fp += 1\n",
        "        elif train_data[i] == pos_label and pred != train_data[i]:\n",
        "          n_fn += 1\n",
        "\n",
        "      return (1.25 * n_tp) / (1.25 * n_tp + 0.25 * (n_fn + n_u) + n_fp)\n",
        "\n",
        "def brier_score(train_data, test_data):\n",
        "      try:\n",
        "        return 1 - brier_score_loss(train_data, test_data)\n",
        "      except ValueError:\n",
        "        return 0.0\n",
        "\n",
        "def auc_score(train_data, test_data):\n",
        "    try:\n",
        "        return roc_auc_score(train_data, test_data)\n",
        "    except ValueError:\n",
        "        return 0.0\n"
      ]
    },
    {
      "cell_type": "code",
      "execution_count": 18,
      "metadata": {
        "id": "AlzkKYSKA5eD"
      },
      "outputs": [],
      "source": [
        "def compute_metrics(p: EvalPrediction): # calcula diversas métricas de evaluación\n",
        "  preds = np.argmax(p.predictions,axis=-1)\n",
        "  preds = np.squeeze(preds)\n",
        "  labels = np.argmax(p.label_ids,axis=-1)\n",
        "  labels = np.squeeze(labels)\n",
        "  precision = precision_score(labels, preds, average='micro')\n",
        "  precision_macro = precision_score(labels, preds, average='macro')\n",
        "  auc = auc_score(labels, preds)\n",
        "  #mse = metrics.mean_squared_error(labels, preds)# Se toma el primer indice del label\n",
        "  #print(\"SIZES::::\",labels.shape, preds.shape)\n",
        "\n",
        "\n",
        "  return {\n",
        "          'auc': auc,\n",
        "          'c@1': c_at_1(labels, preds),\n",
        "          'f_05_u': f_05_u_score(labels, preds),\n",
        "          'F1': f1_score(labels, preds, average = 'micro'),\n",
        "          'brier': brier_score(labels, preds),\n",
        "          'precision micro': precision,\n",
        "          'precision macro': precision_macro\n",
        "          }"
      ]
    },
    {
      "cell_type": "code",
      "execution_count": 19,
      "metadata": {
        "id": "1Xi6SQJjEpgX"
      },
      "outputs": [],
      "source": [
        "# Definir bien los argumentos\n",
        "args = TrainingArguments(\n",
        "    output_dir='output',  # Ruta del directorio de salida donde se guardarán los resultados del entrenamiento\n",
        "    evaluation_strategy='epoch',  # Evaluación del modelo al final de cada época\n",
        "    num_train_epochs=5,  # Número total de épocas de entrenamiento\n",
        "    per_device_train_batch_size=16,  # Tamaño del lote de entrenamiento por dispositivo. Ajustar según la memoria GPU disponible\n",
        "    per_device_eval_batch_size=16,  # Tamaño del lote de evaluación por dispositivo. Ajustar según la memoria GPU disponible\n",
        "    learning_rate=5e-5,  # Tasa de aprendizaje utilizada en el entrenamiento\n",
        "    overwrite_output_dir=True,  # Sobrescribir el directorio de salida si ya existe\n",
        "    remove_unused_columns=False,  # No eliminar columnas no utilizadas del conjunto de datos\n",
        "    logging_dir='logs',  # Ruta del directorio donde se guardarán los archivos de registro del entrenamiento\n",
        "    logging_steps=10,  # Número de pasos después de los cuales se realizará el registro\n",
        "    save_strategy='epoch',  # Estrategia de guardado del modelo: al final de cada época\n",
        "    save_total_limit=10,  # Límite total de modelos guardados\n",
        "    load_best_model_at_end=True,  # Cargar el mejor modelo al final del entrenamiento\n",
        "    warmup_steps=10,  # Número de pasos de calentamiento antes de ajustar la tasa de aprendizaje\n",
        "    weight_decay=0.03,  # Factor de decaimiento de peso para la regularización L2\n",
        "    adam_epsilon=1e-8,  # Epsilon para el optimizador Adam, utilizado para la estabilidad numérica\n",
        "    adam_beta1=0.5,  # Coeficiente beta1 para el optimizador Adam\n",
        "    adam_beta2=0.5,  # Coeficiente beta2 para el optimizador Adam\n",
        "    lr_scheduler_type='cosine',  # Tipo de programador de tasa de aprendizaje: programador coseno curva de aprendizaje  entre el eje x\n",
        "    gradient_accumulation_steps=1,  # Número de pasos de acumulación de gradiente antes de realizar una actualización de parámetros\n",
        "    max_grad_norm=5.0,  # Valor máximo de la norma del gradiente para evitar explosiones de gradiente\n",
        "    save_steps=10  # Número de pasos después de los cuales se guarda el modelo\n",
        "    )\n"
      ]
    },
    {
      "cell_type": "code",
      "execution_count": 20,
      "metadata": {
        "id": "isbFdendEucj"
      },
      "outputs": [],
      "source": [
        "model = StackedCLSModel(MODEL, MODEL_TYPE)"
      ]
    },
    {
      "cell_type": "code",
      "execution_count": 21,
      "metadata": {
        "id": "mD_oLB_b-MhS"
      },
      "outputs": [],
      "source": [
        "trainer = Trainer(\n",
        "   model=model,\n",
        "    args=args,\n",
        "    train_dataset=train_set,\n",
        "    eval_dataset=eval_dataset,\n",
        "    compute_metrics=compute_metrics\n",
        ")"
      ]
    },
    {
      "cell_type": "code",
      "execution_count": 22,
      "metadata": {},
      "outputs": [],
      "source": [
        "import optuna\n",
        "\n",
        "def objective(trial):\n",
        "    # Definir los hiperparámetros a sintonizar con Optuna\n",
        "    learning_rate = trial.suggest_float('learning_rate', 1e-5, 1e-1, log=True)\n",
        "    num_layers = trial.suggest_int('num_layers', 1, 4)\n",
        "    # ...\n",
        "\n",
        "    # Crear el modelo con los hiperparámetros sugeridos\n",
        " \n",
        "  \n",
        "    # Entrenar el modelo\n",
        "    trainer.train()\n",
        "\n",
        "    # Devolver la métrica que deseas optimizar (por ejemplo, precisión)\n",
        "    return trainer.evaluate();\n"
      ]
    },
    {
      "cell_type": "code",
      "execution_count": 23,
      "metadata": {},
      "outputs": [
        {
          "name": "stderr",
          "output_type": "stream",
          "text": [
            "[I 2023-07-20 01:20:53,537] A new study created in memory with name: no-name-5aa6a360-bb3f-40b7-9d33-ff84d2af3585\n"
          ]
        }
      ],
      "source": [
        "\n",
        "study = optuna.create_study(direction='maximize')  # Cambia a 'minimize' si deseas minimizar la métrica\n"
      ]
    },
    {
      "cell_type": "code",
      "execution_count": 24,
      "metadata": {},
      "outputs": [
        {
          "name": "stderr",
          "output_type": "stream",
          "text": [
            "c:\\Python311\\Lib\\site-packages\\transformers\\optimization.py:391: FutureWarning: This implementation of AdamW is deprecated and will be removed in a future version. Use the PyTorch implementation torch.optim.AdamW instead, or set `no_deprecation_warning=True` to disable this warning\n",
            "  warnings.warn(\n",
            "                                             \n",
            " 20%|██        | 1/5 [00:28<01:29, 22.48s/it]"
          ]
        },
        {
          "name": "stdout",
          "output_type": "stream",
          "text": [
            "{'eval_loss': 0.6275153160095215, 'eval_auc': 0.0, 'eval_c@1': 1.0, 'eval_f_05_u': 1.0, 'eval_F1': 1.0, 'eval_brier': 1.0, 'eval_precision micro': 1.0, 'eval_precision macro': 1.0, 'eval_runtime': 5.9245, 'eval_samples_per_second': 0.338, 'eval_steps_per_second': 0.169, 'epoch': 1.0}\n"
          ]
        },
        {
          "name": "stderr",
          "output_type": "stream",
          "text": [
            "                                             \n",
            " 40%|████      | 2/5 [01:00<01:26, 28.88s/it]"
          ]
        },
        {
          "name": "stdout",
          "output_type": "stream",
          "text": [
            "{'eval_loss': 0.6017112731933594, 'eval_auc': 0.0, 'eval_c@1': 1.0, 'eval_f_05_u': 1.0, 'eval_F1': 1.0, 'eval_brier': 1.0, 'eval_precision micro': 1.0, 'eval_precision macro': 1.0, 'eval_runtime': 4.8744, 'eval_samples_per_second': 0.41, 'eval_steps_per_second': 0.205, 'epoch': 2.0}\n"
          ]
        },
        {
          "name": "stderr",
          "output_type": "stream",
          "text": [
            "                                             \n",
            " 60%|██████    | 3/5 [01:30<00:58, 29.02s/it]"
          ]
        },
        {
          "name": "stdout",
          "output_type": "stream",
          "text": [
            "{'eval_loss': 0.5524054765701294, 'eval_auc': 0.0, 'eval_c@1': 1.0, 'eval_f_05_u': 1.0, 'eval_F1': 1.0, 'eval_brier': 1.0, 'eval_precision micro': 1.0, 'eval_precision macro': 1.0, 'eval_runtime': 5.4196, 'eval_samples_per_second': 0.369, 'eval_steps_per_second': 0.185, 'epoch': 3.0}\n"
          ]
        },
        {
          "name": "stderr",
          "output_type": "stream",
          "text": [
            "                                             \n",
            " 80%|████████  | 4/5 [02:09<00:32, 32.90s/it]"
          ]
        },
        {
          "name": "stdout",
          "output_type": "stream",
          "text": [
            "{'eval_loss': 0.48478585481643677, 'eval_auc': 0.0, 'eval_c@1': 1.0, 'eval_f_05_u': 1.0, 'eval_F1': 1.0, 'eval_brier': 1.0, 'eval_precision micro': 1.0, 'eval_precision macro': 1.0, 'eval_runtime': 5.6738, 'eval_samples_per_second': 0.352, 'eval_steps_per_second': 0.176, 'epoch': 4.0}\n"
          ]
        },
        {
          "name": "stderr",
          "output_type": "stream",
          "text": [
            "                                             \n",
            "100%|██████████| 5/5 [02:38<00:00, 31.63s/it]"
          ]
        },
        {
          "name": "stdout",
          "output_type": "stream",
          "text": [
            "{'eval_loss': 0.4058021903038025, 'eval_auc': 0.0, 'eval_c@1': 1.0, 'eval_f_05_u': 1.0, 'eval_F1': 1.0, 'eval_brier': 1.0, 'eval_precision micro': 1.0, 'eval_precision macro': 1.0, 'eval_runtime': 4.8973, 'eval_samples_per_second': 0.408, 'eval_steps_per_second': 0.204, 'epoch': 5.0}\n"
          ]
        },
        {
          "name": "stderr",
          "output_type": "stream",
          "text": [
            "100%|██████████| 5/5 [02:41<00:00, 32.38s/it]\n"
          ]
        },
        {
          "name": "stdout",
          "output_type": "stream",
          "text": [
            "{'train_runtime': 161.9218, 'train_samples_per_second': 0.093, 'train_steps_per_second': 0.031, 'train_loss': 0.5755623817443848, 'epoch': 5.0}\n"
          ]
        },
        {
          "name": "stderr",
          "output_type": "stream",
          "text": [
            "100%|██████████| 1/1 [00:00<00:00, 62.53it/s]\n",
            "[W 2023-07-20 01:23:40,216] Trial 0 failed with parameters: {'learning_rate': 0.0002739045786941114, 'num_layers': 1} because of the following error: The value {'eval_loss': 0.4058021903038025, 'eval_auc': 0.0, 'eval_c@1': 1.0, 'eval_f_05_u': 1.0, 'eval_F1': 1.0, 'eval_brier': 1.0, 'eval_precision micro': 1.0, 'eval_precision macro': 1.0, 'eval_runtime': 4.6078, 'eval_samples_per_second': 0.434, 'eval_steps_per_second': 0.217, 'epoch': 5.0} could not be cast to float..\n",
            "[W 2023-07-20 01:23:40,216] Trial 0 failed with value {'eval_loss': 0.4058021903038025, 'eval_auc': 0.0, 'eval_c@1': 1.0, 'eval_f_05_u': 1.0, 'eval_F1': 1.0, 'eval_brier': 1.0, 'eval_precision micro': 1.0, 'eval_precision macro': 1.0, 'eval_runtime': 4.6078, 'eval_samples_per_second': 0.434, 'eval_steps_per_second': 0.217, 'epoch': 5.0}.\n",
            " 20%|██        | 1/5 [00:20<01:21, 20.32s/it]\n",
            " 20%|██        | 1/5 [00:25<01:21, 20.32s/it]"
          ]
        },
        {
          "name": "stdout",
          "output_type": "stream",
          "text": [
            "{'eval_loss': 0.32405799627304077, 'eval_auc': 0.0, 'eval_c@1': 1.0, 'eval_f_05_u': 1.0, 'eval_F1': 1.0, 'eval_brier': 1.0, 'eval_precision micro': 1.0, 'eval_precision macro': 1.0, 'eval_runtime': 5.0519, 'eval_samples_per_second': 0.396, 'eval_steps_per_second': 0.198, 'epoch': 1.0}\n"
          ]
        },
        {
          "name": "stderr",
          "output_type": "stream",
          "text": [
            " 40%|████      | 2/5 [00:52<01:21, 27.10s/it]\n",
            " 40%|████      | 2/5 [00:58<01:21, 27.10s/it]"
          ]
        },
        {
          "name": "stdout",
          "output_type": "stream",
          "text": [
            "{'eval_loss': 0.24959400296211243, 'eval_auc': 0.0, 'eval_c@1': 1.0, 'eval_f_05_u': 1.0, 'eval_F1': 1.0, 'eval_brier': 1.0, 'eval_precision micro': 1.0, 'eval_precision macro': 1.0, 'eval_runtime': 6.4011, 'eval_samples_per_second': 0.312, 'eval_steps_per_second': 0.156, 'epoch': 2.0}\n"
          ]
        },
        {
          "name": "stderr",
          "output_type": "stream",
          "text": [
            " 60%|██████    | 3/5 [01:41<01:14, 37.36s/it]\n",
            " 60%|██████    | 3/5 [01:47<01:14, 37.36s/it]"
          ]
        },
        {
          "name": "stdout",
          "output_type": "stream",
          "text": [
            "{'eval_loss': 0.1860474944114685, 'eval_auc': 0.0, 'eval_c@1': 1.0, 'eval_f_05_u': 1.0, 'eval_F1': 1.0, 'eval_brier': 1.0, 'eval_precision micro': 1.0, 'eval_precision macro': 1.0, 'eval_runtime': 5.9009, 'eval_samples_per_second': 0.339, 'eval_steps_per_second': 0.169, 'epoch': 3.0}\n"
          ]
        },
        {
          "name": "stderr",
          "output_type": "stream",
          "text": [
            "                                             \n",
            " 80%|████████  | 4/5 [02:30<00:39, 39.61s/it]"
          ]
        },
        {
          "name": "stdout",
          "output_type": "stream",
          "text": [
            "{'eval_loss': 0.13010215759277344, 'eval_auc': 0.0, 'eval_c@1': 1.0, 'eval_f_05_u': 1.0, 'eval_F1': 1.0, 'eval_brier': 1.0, 'eval_precision micro': 1.0, 'eval_precision macro': 1.0, 'eval_runtime': 5.4951, 'eval_samples_per_second': 0.364, 'eval_steps_per_second': 0.182, 'epoch': 4.0}\n"
          ]
        },
        {
          "name": "stderr",
          "output_type": "stream",
          "text": [
            "                                             \n",
            "100%|██████████| 5/5 [03:08<00:00, 38.98s/it]"
          ]
        },
        {
          "name": "stdout",
          "output_type": "stream",
          "text": [
            "{'eval_loss': 0.08308418095111847, 'eval_auc': 0.0, 'eval_c@1': 1.0, 'eval_f_05_u': 1.0, 'eval_F1': 1.0, 'eval_brier': 1.0, 'eval_precision micro': 1.0, 'eval_precision macro': 1.0, 'eval_runtime': 6.0483, 'eval_samples_per_second': 0.331, 'eval_steps_per_second': 0.165, 'epoch': 5.0}\n"
          ]
        },
        {
          "name": "stderr",
          "output_type": "stream",
          "text": [
            "100%|██████████| 5/5 [03:24<00:00, 40.99s/it]\n"
          ]
        },
        {
          "name": "stdout",
          "output_type": "stream",
          "text": [
            "{'train_runtime': 204.9883, 'train_samples_per_second': 0.073, 'train_steps_per_second': 0.024, 'train_loss': 0.2702141761779785, 'epoch': 5.0}\n"
          ]
        },
        {
          "name": "stderr",
          "output_type": "stream",
          "text": [
            "100%|██████████| 1/1 [00:00<00:00, 40.66it/s]\n",
            "[W 2023-07-20 01:27:09,140] Trial 1 failed with parameters: {'learning_rate': 4.389083469555111e-05, 'num_layers': 3} because of the following error: The value {'eval_loss': 0.08308418095111847, 'eval_auc': 0.0, 'eval_c@1': 1.0, 'eval_f_05_u': 1.0, 'eval_F1': 1.0, 'eval_brier': 1.0, 'eval_precision micro': 1.0, 'eval_precision macro': 1.0, 'eval_runtime': 3.9023, 'eval_samples_per_second': 0.513, 'eval_steps_per_second': 0.256, 'epoch': 5.0} could not be cast to float..\n",
            "[W 2023-07-20 01:27:09,140] Trial 1 failed with value {'eval_loss': 0.08308418095111847, 'eval_auc': 0.0, 'eval_c@1': 1.0, 'eval_f_05_u': 1.0, 'eval_F1': 1.0, 'eval_brier': 1.0, 'eval_precision micro': 1.0, 'eval_precision macro': 1.0, 'eval_runtime': 3.9023, 'eval_samples_per_second': 0.513, 'eval_steps_per_second': 0.256, 'epoch': 5.0}.\n"
          ]
        }
      ],
      "source": [
        "study.optimize(objective, n_trials=2)  # Ajusta el número de ensayos según tus necesidades\n"
      ]
    },
    {
      "cell_type": "code",
      "execution_count": 29,
      "metadata": {},
      "outputs": [],
      "source": [
        "trial=study.trials"
      ]
    },
    {
      "cell_type": "code",
      "execution_count": 36,
      "metadata": {},
      "outputs": [
        {
          "data": {
            "text/plain": [
              "[FrozenTrial(number=0, state=3, values=None, datetime_start=datetime.datetime(2023, 7, 20, 1, 20, 53, 638255), datetime_complete=datetime.datetime(2023, 7, 20, 1, 23, 40, 208119), params={'learning_rate': 0.0002739045786941114, 'num_layers': 1}, user_attrs={}, system_attrs={}, intermediate_values={}, distributions={'learning_rate': FloatDistribution(high=0.1, log=True, low=1e-05, step=None), 'num_layers': IntDistribution(high=4, log=False, low=1, step=1)}, trial_id=0, value=None),\n",
              " FrozenTrial(number=1, state=3, values=None, datetime_start=datetime.datetime(2023, 7, 20, 1, 23, 40, 216120), datetime_complete=datetime.datetime(2023, 7, 20, 1, 27, 9, 140599), params={'learning_rate': 4.389083469555111e-05, 'num_layers': 3}, user_attrs={}, system_attrs={}, intermediate_values={}, distributions={'learning_rate': FloatDistribution(high=0.1, log=True, low=1e-05, step=None), 'num_layers': IntDistribution(high=4, log=False, low=1, step=1)}, trial_id=1, value=None)]"
            ]
          },
          "execution_count": 36,
          "metadata": {},
          "output_type": "execute_result"
        }
      ],
      "source": [
        "trial"
      ]
    },
    {
      "cell_type": "code",
      "execution_count": 47,
      "metadata": {},
      "outputs": [
        {
          "data": {
            "text/plain": [
              "FrozenTrial(number=0, state=3, values=None, datetime_start=datetime.datetime(2023, 7, 20, 1, 20, 53, 638255), datetime_complete=datetime.datetime(2023, 7, 20, 1, 23, 40, 208119), params={'learning_rate': 0.0002739045786941114, 'num_layers': 1}, user_attrs={}, system_attrs={}, intermediate_values={}, distributions={'learning_rate': FloatDistribution(high=0.1, log=True, low=1e-05, step=None), 'num_layers': IntDistribution(high=4, log=False, low=1, step=1)}, trial_id=0, value=None)"
            ]
          },
          "execution_count": 47,
          "metadata": {},
          "output_type": "execute_result"
        }
      ],
      "source": [
        "trial[0]"
      ]
    },
    {
      "cell_type": "code",
      "execution_count": 27,
      "metadata": {},
      "outputs": [
        {
          "ename": "SyntaxError",
          "evalue": "invalid syntax (4242450427.py, line 1)",
          "output_type": "error",
          "traceback": [
            "\u001b[1;36m  Cell \u001b[1;32mIn[27], line 1\u001b[1;36m\u001b[0m\n\u001b[1;33m    pip install plotly\u001b[0m\n\u001b[1;37m        ^\u001b[0m\n\u001b[1;31mSyntaxError\u001b[0m\u001b[1;31m:\u001b[0m invalid syntax\n"
          ]
        }
      ],
      "source": [
        "pip install plotly\n",
        "pip install matplotlib"
      ]
    },
    {
      "cell_type": "code",
      "execution_count": null,
      "metadata": {},
      "outputs": [],
      "source": [
        "pip install matplotlib"
      ]
    },
    {
      "cell_type": "code",
      "execution_count": null,
      "metadata": {},
      "outputs": [],
      "source": [
        "import optuna.visualization as optuna_visualization\n",
        "import plotly"
      ]
    },
    {
      "cell_type": "code",
      "execution_count": null,
      "metadata": {},
      "outputs": [],
      "source": [
        "optuna_visualization.plot_slice(study)"
      ]
    },
    {
      "cell_type": "code",
      "execution_count": null,
      "metadata": {},
      "outputs": [],
      "source": [
        "\n",
        "best_trial = study.best_trial\n",
        "best_params = best_trial.params\n",
        "best_value = best_trial.value\n",
        "print(\"Best trial:\")\n",
        "print(\"  Value: \", best_value)\n",
        "print(\"  Params: \")\n",
        "for key, value in best_params.items():\n",
        "    print(f\"    {key}: {value}\")\n"
      ]
    },
    {
      "cell_type": "code",
      "execution_count": null,
      "metadata": {
        "colab": {
          "base_uri": "https://localhost:8080/",
          "height": 349
        },
        "id": "sGrkAco5-MhU",
        "outputId": "d5c2bc8d-642c-4901-c180-d7f8990873e6"
      },
      "outputs": [
        {
          "name": "stderr",
          "output_type": "stream",
          "text": [
            "c:\\Python311\\Lib\\site-packages\\transformers\\optimization.py:391: FutureWarning: This implementation of AdamW is deprecated and will be removed in a future version. Use the PyTorch implementation torch.optim.AdamW instead, or set `no_deprecation_warning=True` to disable this warning\n",
            "  warnings.warn(\n",
            " 20%|██        | 1/5 [01:17<05:10, 77.67s/it]c:\\Python311\\Lib\\site-packages\\sklearn\\metrics\\_classification.py:1344: UndefinedMetricWarning: Precision is ill-defined and being set to 0.0 in labels with no predicted samples. Use `zero_division` parameter to control this behavior.\n",
            "  _warn_prf(average, modifier, msg_start, len(result))\n",
            "                                             \n",
            " 20%|██        | 1/5 [01:32<05:10, 77.67s/it]"
          ]
        },
        {
          "name": "stdout",
          "output_type": "stream",
          "text": [
            "{'eval_loss': 0.8600693941116333, 'eval_auc': 0.0, 'eval_c@1': 0.0, 'eval_f_05_u': 0.0, 'eval_F1': 0.0, 'eval_brier': 0.0, 'eval_precision micro': 0.0, 'eval_precision macro': 0.0, 'eval_runtime': 14.4968, 'eval_samples_per_second': 0.138, 'eval_steps_per_second': 0.069, 'epoch': 1.0}\n"
          ]
        },
        {
          "name": "stderr",
          "output_type": "stream",
          "text": [
            " 40%|████      | 2/5 [02:42<04:06, 82.02s/it]c:\\Python311\\Lib\\site-packages\\sklearn\\metrics\\_classification.py:1344: UndefinedMetricWarning: Precision is ill-defined and being set to 0.0 in labels with no predicted samples. Use `zero_division` parameter to control this behavior.\n",
            "  _warn_prf(average, modifier, msg_start, len(result))\n",
            "\n",
            " 40%|████      | 2/5 [02:55<04:06, 82.02s/it]"
          ]
        },
        {
          "name": "stdout",
          "output_type": "stream",
          "text": [
            "{'eval_loss': 0.8383868932723999, 'eval_auc': 0.0, 'eval_c@1': 0.0, 'eval_f_05_u': 0.0, 'eval_F1': 0.0, 'eval_brier': 0.0, 'eval_precision micro': 0.0, 'eval_precision macro': 0.0, 'eval_runtime': 13.1031, 'eval_samples_per_second': 0.153, 'eval_steps_per_second': 0.076, 'epoch': 2.0}\n"
          ]
        },
        {
          "name": "stderr",
          "output_type": "stream",
          "text": [
            " 60%|██████    | 3/5 [04:11<02:50, 85.01s/it]c:\\Python311\\Lib\\site-packages\\sklearn\\metrics\\_classification.py:1344: UndefinedMetricWarning: Precision is ill-defined and being set to 0.0 in labels with no predicted samples. Use `zero_division` parameter to control this behavior.\n",
            "  _warn_prf(average, modifier, msg_start, len(result))\n",
            "\n",
            " 60%|██████    | 3/5 [04:23<02:50, 85.01s/it]"
          ]
        },
        {
          "name": "stdout",
          "output_type": "stream",
          "text": [
            "{'eval_loss': 0.7934452891349792, 'eval_auc': 0.0, 'eval_c@1': 0.0, 'eval_f_05_u': 0.0, 'eval_F1': 0.0, 'eval_brier': 0.0, 'eval_precision micro': 0.0, 'eval_precision macro': 0.0, 'eval_runtime': 12.1355, 'eval_samples_per_second': 0.165, 'eval_steps_per_second': 0.082, 'epoch': 3.0}\n"
          ]
        },
        {
          "name": "stderr",
          "output_type": "stream",
          "text": [
            " 80%|████████  | 4/5 [06:02<01:35, 95.33s/it]\n",
            " 80%|████████  | 4/5 [06:20<01:35, 95.33s/it]"
          ]
        },
        {
          "name": "stdout",
          "output_type": "stream",
          "text": [
            "{'eval_loss': 0.7287106513977051, 'eval_auc': 0.0, 'eval_c@1': 0.5, 'eval_f_05_u': 0.8333333333333334, 'eval_F1': 0.5, 'eval_brier': 0.5, 'eval_precision micro': 0.5, 'eval_precision macro': 0.5, 'eval_runtime': 18.1447, 'eval_samples_per_second': 0.11, 'eval_steps_per_second': 0.055, 'epoch': 4.0}\n"
          ]
        },
        {
          "name": "stderr",
          "output_type": "stream",
          "text": [
            "100%|██████████| 5/5 [07:31<00:00, 92.99s/it]\n",
            "100%|██████████| 5/5 [07:47<00:00, 92.99s/it]"
          ]
        },
        {
          "name": "stdout",
          "output_type": "stream",
          "text": [
            "{'eval_loss': 0.663583517074585, 'eval_auc': 0.0, 'eval_c@1': 0.5, 'eval_f_05_u': 0.8333333333333334, 'eval_F1': 0.5, 'eval_brier': 0.5, 'eval_precision micro': 0.5, 'eval_precision macro': 0.5, 'eval_runtime': 16.2607, 'eval_samples_per_second': 0.123, 'eval_steps_per_second': 0.061, 'epoch': 5.0}\n"
          ]
        },
        {
          "name": "stderr",
          "output_type": "stream",
          "text": [
            "100%|██████████| 5/5 [08:01<00:00, 96.21s/it]"
          ]
        },
        {
          "name": "stdout",
          "output_type": "stream",
          "text": [
            "{'train_runtime': 481.3725, 'train_samples_per_second': 0.031, 'train_steps_per_second': 0.01, 'train_loss': 0.7217598915100097, 'epoch': 5.0}\n"
          ]
        },
        {
          "name": "stderr",
          "output_type": "stream",
          "text": [
            "\n"
          ]
        }
      ],
      "source": [
        "result=None\n",
        "result=trainer.train()"
      ]
    },
    {
      "cell_type": "code",
      "execution_count": null,
      "metadata": {},
      "outputs": [],
      "source": [
        "best_model_checkpoint = trainer.state.best_model_checkpoint"
      ]
    },
    {
      "cell_type": "code",
      "execution_count": null,
      "metadata": {},
      "outputs": [
        {
          "data": {
            "text/plain": [
              "'output\\\\checkpoint-5'"
            ]
          },
          "execution_count": 94,
          "metadata": {},
          "output_type": "execute_result"
        }
      ],
      "source": [
        "best_model_checkpoint"
      ]
    },
    {
      "cell_type": "code",
      "execution_count": null,
      "metadata": {},
      "outputs": [],
      "source": [
        "direccion=GenerarDirectorio('best_model')\n",
        "rutamodel=os.path.join(direccion,'best_model.pth')"
      ]
    },
    {
      "cell_type": "code",
      "execution_count": null,
      "metadata": {},
      "outputs": [],
      "source": [
        "modelos= trainer."
      ]
    },
    {
      "cell_type": "code",
      "execution_count": null,
      "metadata": {},
      "outputs": [
        {
          "ename": "TypeError",
          "evalue": "cannot pickle 'torch._C.Generator' object",
          "output_type": "error",
          "traceback": [
            "\u001b[1;31m---------------------------------------------------------------------------\u001b[0m",
            "\u001b[1;31mTypeError\u001b[0m                                 Traceback (most recent call last)",
            "Cell \u001b[1;32mIn[102], line 1\u001b[0m\n\u001b[1;32m----> 1\u001b[0m torch\u001b[39m.\u001b[39;49msave(trainer, rutamodel)\n",
            "File \u001b[1;32mc:\\Python311\\Lib\\site-packages\\torch\\serialization.py:441\u001b[0m, in \u001b[0;36msave\u001b[1;34m(obj, f, pickle_module, pickle_protocol, _use_new_zipfile_serialization)\u001b[0m\n\u001b[0;32m    439\u001b[0m \u001b[39mif\u001b[39;00m _use_new_zipfile_serialization:\n\u001b[0;32m    440\u001b[0m     \u001b[39mwith\u001b[39;00m _open_zipfile_writer(f) \u001b[39mas\u001b[39;00m opened_zipfile:\n\u001b[1;32m--> 441\u001b[0m         _save(obj, opened_zipfile, pickle_module, pickle_protocol)\n\u001b[0;32m    442\u001b[0m         \u001b[39mreturn\u001b[39;00m\n\u001b[0;32m    443\u001b[0m \u001b[39melse\u001b[39;00m:\n",
            "File \u001b[1;32mc:\\Python311\\Lib\\site-packages\\torch\\serialization.py:653\u001b[0m, in \u001b[0;36m_save\u001b[1;34m(obj, zip_file, pickle_module, pickle_protocol)\u001b[0m\n\u001b[0;32m    651\u001b[0m pickler \u001b[39m=\u001b[39m pickle_module\u001b[39m.\u001b[39mPickler(data_buf, protocol\u001b[39m=\u001b[39mpickle_protocol)\n\u001b[0;32m    652\u001b[0m pickler\u001b[39m.\u001b[39mpersistent_id \u001b[39m=\u001b[39m persistent_id\n\u001b[1;32m--> 653\u001b[0m pickler\u001b[39m.\u001b[39;49mdump(obj)\n\u001b[0;32m    654\u001b[0m data_value \u001b[39m=\u001b[39m data_buf\u001b[39m.\u001b[39mgetvalue()\n\u001b[0;32m    655\u001b[0m zip_file\u001b[39m.\u001b[39mwrite_record(\u001b[39m'\u001b[39m\u001b[39mdata.pkl\u001b[39m\u001b[39m'\u001b[39m, data_value, \u001b[39mlen\u001b[39m(data_value))\n",
            "\u001b[1;31mTypeError\u001b[0m: cannot pickle 'torch._C.Generator' object"
          ]
        }
      ],
      "source": [
        "model.predict(testdata)"
      ]
    },
    {
      "cell_type": "code",
      "execution_count": null,
      "metadata": {
        "id": "nlmDmlFVspAV"
      },
      "outputs": [],
      "source": [
        "\n",
        "\n",
        "def group_by_property(metrics):\n",
        "    properties = set()\n",
        "    for metric in metrics:\n",
        "        for property in metric:\n",
        "            properties.add(property)\n",
        "    grouped_metrics = {}\n",
        "    for property in properties:\n",
        "        grouped_metrics[property] = [metric for metric in metrics if property in metric]\n",
        "    return grouped_metrics\n",
        "def agrupar_propiedades(lista):\n",
        "    resultado = {}\n",
        "    for diccionario in lista:\n",
        "        for propiedad, valor in diccionario.items():\n",
        "            # Reemplazar espacios y caracteres especiales en la propiedad con guiones bajos\n",
        "            propiedad = propiedad.replace(' ', '_').replace('-', '_')\n",
        "            if propiedad not in resultado:\n",
        "                resultado[propiedad] = []\n",
        "            resultado[propiedad].append(valor)\n",
        "    return resultado\n",
        "\n",
        "def _getvalores(data,key):{\n",
        "  [metric[key] for metric in data if key in data]\n",
        "}\n",
        "\n",
        "\n",
        "\n",
        "def normalizar_propiedades(lista):\n",
        "    for diccionario in lista:\n",
        "        for propiedad in list(diccionario.keys()):\n",
        "            propiedad_normalizada = propiedad.replace(\" \", \"_\").replace(\"-\", \"_\").replace(\".\", \"_\").replace(\":\", \"_\").replace(\"/\", \"_\")\n",
        "            if propiedad != propiedad_normalizada:\n",
        "                diccionario[propiedad_normalizada] = diccionario.pop(propiedad)\n",
        "    return lista\n"
      ]
    },
    {
      "cell_type": "code",
      "execution_count": null,
      "metadata": {
        "id": "BznIdYZ1stqI"
      },
      "outputs": [],
      "source": [
        "def generarGrafico(metrics,numero=2):\n",
        "    metricas2 = agrupar_propiedades(metrics)\n",
        "    fecha_hora = datetime.datetime.now().strftime('%Y-%m-%d %H:%M:%S')\n",
        "    # Configurar el gráfico\n",
        "    plt.figure(figsize=(10, 8))\n",
        "    plt.title('Métricas de entrenamiento por época')\n",
        "    plt.xlabel('Época')\n",
        "    plt.ylabel('Valor de la métrica')\n",
        "    plt.ylim(0, 1.5)\n",
        "\n",
        "    # Graficar cada métrica con longitud distinta a 7\n",
        "    for name, valores in metricas2.items():\n",
        "        if len(valores) == numero:  # Verificar si la longitud es igual a 7\n",
        "            plt.plot(range(len(valores)), valores, label=name,marker='o')\n",
        "\n",
        "    # Agregar leyenda y mostrar gráfico\n",
        "    plt.legend(bbox_to_anchor=(1.05, 1), loc='upper left')\n",
        "    plt.grid(True)\n",
        "\n",
        "    # Establecer valores y etiquetas en el eje y con todos los decimales\n",
        "    plt.yticks([i / 10 for i in range(15)])\n",
        "\n",
        "    # Agregar fecha y hora al pie de la gráfica\n",
        "    plt.figtext(0.99, 0.01, fecha_hora, ha='right', va='bottom')\n",
        "    ruta =GenerarDirectorio('Graficos')\n",
        "       # Ajustar el tamaño de la gráfica dentro de la ventana\n",
        "     # Guardar el gráfico en la ubicación especificada con mayor resolución\n",
        "    plt.tight_layout()\n",
        "\n",
        "    plt.savefig(os.path.join(ruta, f'{date_string}_grafico.png'), dpi=1800,bbox_inches='tight')\n",
        " \n",
        "    plt.show()\n"
      ]
    },
    {
      "cell_type": "code",
      "execution_count": null,
      "metadata": {
        "id": "pia9vcZtsy_X"
      },
      "outputs": [],
      "source": [
        "metrics=trainer.state.log_history\n"
      ]
    },
    {
      "cell_type": "code",
      "execution_count": null,
      "metadata": {},
      "outputs": [],
      "source": [
        "metrics=normalizar_propiedades(metrics)\n"
      ]
    },
    {
      "cell_type": "code",
      "execution_count": null,
      "metadata": {
        "colab": {
          "base_uri": "https://localhost:8080/",
          "height": 755
        },
        "id": "H5D6t9pJs1R7",
        "outputId": "7af4faba-6694-4b8d-9eae-a86e1418009c"
      },
      "outputs": [
        {
          "data": {
            "image/png": "[encoded data removed]",
            "text/plain": [
              "<Figure size 1000x800 with 1 Axes>"
            ]
          },
          "metadata": {},
          "output_type": "display_data"
        }
      ],
      "source": [
        "generarGrafico(metrics,args.num_train_epochs)"
      ]
    },
    {
      "cell_type": "code",
      "execution_count": null,
      "metadata": {},
      "outputs": [],
      "source": [
        "direccion=GenerarDirectorio('best_model')\n",
        "rutamodel=os.path.join(direccion,'best_model.pth')"
      ]
    },
    {
      "cell_type": "code",
      "execution_count": null,
      "metadata": {},
      "outputs": [],
      "source": [
        "torch.save(model, rutamodel)"
      ]
    },
    {
      "cell_type": "code",
      "execution_count": null,
      "metadata": {},
      "outputs": [],
      "source": [
        "modelo_cargado = torch.load(rutamodel)"
      ]
    },
    {
      "cell_type": "code",
      "execution_count": null,
      "metadata": {},
      "outputs": [],
      "source": [
        "modelo_cargado"
      ]
    },
    {
      "cell_type": "code",
      "execution_count": null,
      "metadata": {},
      "outputs": [],
      "source": [
        "train_input_ids = [train_set[i]['input_ids'] for i in range(len(train_set))]\n",
        "train_attention_mask = [train_set[i]['attention_mask'] for i in range(len(train_set))]\n"
      ]
    },
    {
      "cell_type": "code",
      "execution_count": null,
      "metadata": {
        "colab": {
          "base_uri": "https://localhost:8080/",
          "height": 17
        },
        "id": "jSeyAQEy-MhV",
        "outputId": "4c6c6ba3-199f-4461-95a7-b701b7c5228c"
      },
      "outputs": [],
      "source": [
        "train_input_ids_tensor = torch.stack(train_input_ids)  # Convertir la lista en un tensor\n",
        "train_attention_mask_tensor = torch.stack(train_attention_mask)  # Convertir la lista en un tensor\n",
        "\n",
        "# Realizar las predicciones con el modelo cargado\n",
        "predicciones = modelo_cargado.predict(train_input_ids_tensor, train_attention_mask_tensor)\n"
      ]
    },
    {
      "cell_type": "code",
      "execution_count": null,
      "metadata": {},
      "outputs": [],
      "source": [
        "predicciones"
      ]
    },
    {
      "cell_type": "code",
      "execution_count": null,
      "metadata": {},
      "outputs": [],
      "source": [
        "predicciones = trainer.predict(train_set)\n"
      ]
    },
    {
      "cell_type": "code",
      "execution_count": null,
      "metadata": {},
      "outputs": [],
      "source": [
        "predicciones"
      ]
    },
    {
      "cell_type": "code",
      "execution_count": null,
      "metadata": {},
      "outputs": [],
      "source": [
        "reponsestrue= predicciones.predictions"
      ]
    },
    {
      "cell_type": "code",
      "execution_count": null,
      "metadata": {},
      "outputs": [],
      "source": [
        "reponsestrue"
      ]
    },
    {
      "cell_type": "code",
      "execution_count": null,
      "metadata": {},
      "outputs": [],
      "source": [
        "preds = np.argmax(reponsestrue,axis=-1)\n"
      ]
    },
    {
      "cell_type": "code",
      "execution_count": null,
      "metadata": {},
      "outputs": [],
      "source": [
        "preds"
      ]
    },
    {
      "cell_type": "code",
      "execution_count": null,
      "metadata": {},
      "outputs": [],
      "source": [
        "labels_idsbin= torch.from_numpy(predicciones.label_ids)\n",
        " "
      ]
    },
    {
      "cell_type": "code",
      "execution_count": null,
      "metadata": {},
      "outputs": [],
      "source": [
        "labels_idsbin"
      ]
    },
    {
      "cell_type": "code",
      "execution_count": null,
      "metadata": {},
      "outputs": [],
      "source": [
        "bin_labels = torch.argmax(labels_idsbin, dim=1)\n"
      ]
    },
    {
      "cell_type": "code",
      "execution_count": null,
      "metadata": {},
      "outputs": [],
      "source": [
        "bin_labels"
      ]
    },
    {
      "cell_type": "code",
      "execution_count": null,
      "metadata": {},
      "outputs": [],
      "source": [
        "def GenerarMatrizConfuncion(matriz_confusion):\n",
        "    # Configurar el gráfico\n",
        "    plt.imshow(matriz_confusion, cmap='Blues', interpolation='nearest')\n",
        "    plt.title('Matriz de Confusión')\n",
        "    plt.colorbar()\n",
        "    \n",
        "    # Etiquetas de los ejes x e y\n",
        "    tick_marks = np.arange(len(matriz_confusion))\n",
        "    plt.xticks(tick_marks, ['Negativo', 'Positivo'])\n",
        "    plt.yticks(tick_marks, ['Negativo', 'Positivo'])\n",
        "    \n",
        "    # Mostrar los valores de la matriz de confusión en cada celda\n",
        "    thresh = matriz_confusion.max() / 2.\n",
        "    for i, j in np.ndindex(matriz_confusion.shape):\n",
        "        plt.text(j, i, format(matriz_confusion[i, j], 'd'),\n",
        "                 horizontalalignment=\"center\",\n",
        "                 color=\"white\" if matriz_confusion[i, j] > thresh else \"black\")\n",
        "    \n",
        "    plt.figtext(0.99, 0.01, date_string, ha='right', va='bottom')\n",
        "    ruta =GenerarDirectorio('Graficos')\n",
        "    # Ajustar los márgenes del gráfico\n",
        "    plt.tight_layout()\n",
        "    \n",
        "    plt.savefig(os.path.join(ruta, f'{date_string}_grafico.png'), dpi=1800,bbox_inches='tight')\n",
        "    # Mostrar el gráfico\n",
        "    plt.show()"
      ]
    },
    {
      "cell_type": "code",
      "execution_count": null,
      "metadata": {},
      "outputs": [],
      "source": [
        "\n",
        "import numpy as np\n",
        "from sklearn.metrics import confusion_matrix\n",
        "\n",
        "matriz_confusion = confusion_matrix(bin_labels, preds)\n",
        "\n",
        "print(matriz_confusion)\n",
        "\n",
        "\n"
      ]
    },
    {
      "cell_type": "code",
      "execution_count": null,
      "metadata": {},
      "outputs": [],
      "source": [
        "GenerarMatrizConfuncion(matriz_confusion)"
      ]
    },
    {
      "cell_type": "code",
      "execution_count": null,
      "metadata": {
        "id": "ggb4FLiLp9g9"
      },
      "outputs": [],
      "source": [
        "evaluacion = trainer.evaluate()"
      ]
    },
    {
      "cell_type": "code",
      "execution_count": null,
      "metadata": {
        "id": "TakZXhPYqCQ2"
      },
      "outputs": [],
      "source": [
        "evaluacion"
      ]
    },
    {
      "cell_type": "code",
      "execution_count": null,
      "metadata": {
        "id": "VPvXDcye-MhW"
      },
      "outputs": [],
      "source": [
        "print (prediciones.predictions.shape, prediciones.label_ids.shape)\n",
        "print (prediciones.predictions, prediciones.label_ids)"
      ]
    },
    {
      "cell_type": "code",
      "execution_count": null,
      "metadata": {
        "id": "EAVzwQMiFTKr"
      },
      "outputs": [],
      "source": [
        "evaluate"
      ]
    },
    {
      "cell_type": "code",
      "execution_count": null,
      "metadata": {
        "id": "LZn16iIGxmK_"
      },
      "outputs": [],
      "source": [
        "evaluacio=model.eval()"
      ]
    },
    {
      "cell_type": "code",
      "execution_count": null,
      "metadata": {
        "id": "csCqTkGW-MhW"
      },
      "outputs": [],
      "source": [
        "now = datetime.datetime.now()\n",
        "date_string = now.strftime(\"%Y-%m-%d_%H-%M-%S\")\n",
        "trainer.save_model(f\"/content/drive/MyDrive/003/ouput/modelnew_{date_string}\")\n",
        "tokenizer.save_pretrained(f\"/content/drive/MyDrive/003/ouput/modelnew_{date_string}\")\n",
        "MODEL.config.save_pretrained(f\"/content/drive/MyDrive/003/ouput/modelnew_{date_string}\")\n"
      ]
    },
    {
      "cell_type": "code",
      "execution_count": null,
      "metadata": {
        "id": "HPxq2X6Aq8AD"
      },
      "outputs": [],
      "source": [
        "model_path =\"/content/drive/MyDrive/003/ouput/modelnew_2023-05-11_21-35-35\"\n"
      ]
    },
    {
      "cell_type": "code",
      "execution_count": null,
      "metadata": {
        "id": "GFmMadt0t6AN"
      },
      "outputs": [],
      "source": [
        "model = AutoModelForSequenceClassification.from_pretrained(model_path)"
      ]
    },
    {
      "cell_type": "code",
      "execution_count": null,
      "metadata": {
        "id": "LdXqo5NEYs8W"
      },
      "outputs": [],
      "source": [
        "torch.cuda.empty_cache()"
      ]
    }
  ],
  "metadata": {
    "accelerator": "GPU",
    "colab": {
      "gpuType": "A100",
      "machine_shape": "hm",
      "provenance": []
    },
    "kernelspec": {
      "display_name": "Python 3",
      "name": "python3"
    },
    "language_info": {
      "codemirror_mode": {
        "name": "ipython",
        "version": 3
      },
      "file_extension": ".py",
      "mimetype": "text/x-python",
      "name": "python",
      "nbconvert_exporter": "python",
      "pygments_lexer": "ipython3",
      "version": "3.11.4"
    },
    "vscode": {
      "interpreter": {
        "hash": "c261aea317cc0286b3b3261fbba9abdec21eaa57589985bb7a274bf54d6cc0a7"
      }
    },
    "widgets": {
      "application/vnd.jupyter.widget-state+json": {
        "0d267a4ade71480fa723479ccb8f2fde": {
          "model_module": "@jupyter-widgets/controls",
          "model_module_version": "1.5.0",
          "model_name": "FloatProgressModel",
          "state": {
            "_dom_classes": [],
            "_model_module": "@jupyter-widgets/controls",
            "_model_module_version": "1.5.0",
            "_model_name": "FloatProgressModel",
            "_view_count": null,
            "_view_module": "@jupyter-widgets/controls",
            "_view_module_version": "1.5.0",
            "_view_name": "ProgressView",
            "bar_style": "success",
            "description": "",
            "description_tooltip": null,
            "layout": "IPY_MODEL_fc46ffd786b74d0a9a187fc9bc3dd489",
            "max": 579,
            "min": 0,
            "orientation": "horizontal",
            "style": "IPY_MODEL_5fb864d583154f0b87f6565d92dbd76c",
            "value": 579
          }
        },
        "1116eaae1956411bad85c6db59b03ec8": {
          "model_module": "@jupyter-widgets/controls",
          "model_module_version": "1.5.0",
          "model_name": "FloatProgressModel",
          "state": {
            "_dom_classes": [],
            "_model_module": "@jupyter-widgets/controls",
            "_model_module_version": "1.5.0",
            "_model_name": "FloatProgressModel",
            "_view_count": null,
            "_view_module": "@jupyter-widgets/controls",
            "_view_module_version": "1.5.0",
            "_view_name": "ProgressView",
            "bar_style": "success",
            "description": "",
            "description_tooltip": null,
            "layout": "IPY_MODEL_27dff8495f344e4fbb1cd8ddf9b5df1d",
            "max": 4305025,
            "min": 0,
            "orientation": "horizontal",
            "style": "IPY_MODEL_a1277bc3580f4e288291f66ad8456f55",
            "value": 4305025
          }
        },
        "146f6467a1ef458d82f4da8aeb436ca5": {
          "model_module": "@jupyter-widgets/controls",
          "model_module_version": "1.5.0",
          "model_name": "HBoxModel",
          "state": {
            "_dom_classes": [],
            "_model_module": "@jupyter-widgets/controls",
            "_model_module_version": "1.5.0",
            "_model_name": "HBoxModel",
            "_view_count": null,
            "_view_module": "@jupyter-widgets/controls",
            "_view_module_version": "1.5.0",
            "_view_name": "HBoxView",
            "box_style": "",
            "children": [
              "IPY_MODEL_4278d17167e74952a1548777506bcf0d",
              "IPY_MODEL_2ba08de02fe94044a217094fd0f52cdd",
              "IPY_MODEL_7d8026df03f9476c881d8a013674204e"
            ],
            "layout": "IPY_MODEL_25acc45628c2467d881edd3c0e7e6981"
          }
        },
        "1679fa2ab0dd4deab14d8e171fdad5a4": {
          "model_module": "@jupyter-widgets/controls",
          "model_module_version": "1.5.0",
          "model_name": "HTMLModel",
          "state": {
            "_dom_classes": [],
            "_model_module": "@jupyter-widgets/controls",
            "_model_module_version": "1.5.0",
            "_model_name": "HTMLModel",
            "_view_count": null,
            "_view_module": "@jupyter-widgets/controls",
            "_view_module_version": "1.5.0",
            "_view_name": "HTMLView",
            "description": "",
            "description_tooltip": null,
            "layout": "IPY_MODEL_d963f04492014bd483db28e274042a60",
            "placeholder": "​",
            "style": "IPY_MODEL_6e7481373d88460a9f645fe44b1f0168",
            "value": "Downloading (…)okenizer_config.json: 100%"
          }
        },
        "1b509392f09347e18c6feb39490c4a92": {
          "model_module": "@jupyter-widgets/controls",
          "model_module_version": "1.5.0",
          "model_name": "DescriptionStyleModel",
          "state": {
            "_model_module": "@jupyter-widgets/controls",
            "_model_module_version": "1.5.0",
            "_model_name": "DescriptionStyleModel",
            "_view_count": null,
            "_view_module": "@jupyter-widgets/base",
            "_view_module_version": "1.2.0",
            "_view_name": "StyleView",
            "description_width": ""
          }
        },
        "221c83536b1047a58165975dd9388e6b": {
          "model_module": "@jupyter-widgets/controls",
          "model_module_version": "1.5.0",
          "model_name": "HBoxModel",
          "state": {
            "_dom_classes": [],
            "_model_module": "@jupyter-widgets/controls",
            "_model_module_version": "1.5.0",
            "_model_name": "HBoxModel",
            "_view_count": null,
            "_view_module": "@jupyter-widgets/controls",
            "_view_module_version": "1.5.0",
            "_view_name": "HBoxView",
            "box_style": "",
            "children": [
              "IPY_MODEL_ce2bbf8db8ad45c19e4581cfc5a77b72",
              "IPY_MODEL_0d267a4ade71480fa723479ccb8f2fde",
              "IPY_MODEL_4feb40f80d3c415a9923ac64355317a4"
            ],
            "layout": "IPY_MODEL_aac45caec68941829dd9f106159af037"
          }
        },
        "25acc45628c2467d881edd3c0e7e6981": {
          "model_module": "@jupyter-widgets/base",
          "model_module_version": "1.2.0",
          "model_name": "LayoutModel",
          "state": {
            "_model_module": "@jupyter-widgets/base",
            "_model_module_version": "1.2.0",
            "_model_name": "LayoutModel",
            "_view_count": null,
            "_view_module": "@jupyter-widgets/base",
            "_view_module_version": "1.2.0",
            "_view_name": "LayoutView",
            "align_content": null,
            "align_items": null,
            "align_self": null,
            "border": null,
            "bottom": null,
            "display": null,
            "flex": null,
            "flex_flow": null,
            "grid_area": null,
            "grid_auto_columns": null,
            "grid_auto_flow": null,
            "grid_auto_rows": null,
            "grid_column": null,
            "grid_gap": null,
            "grid_row": null,
            "grid_template_areas": null,
            "grid_template_columns": null,
            "grid_template_rows": null,
            "height": null,
            "justify_content": null,
            "justify_items": null,
            "left": null,
            "margin": null,
            "max_height": null,
            "max_width": null,
            "min_height": null,
            "min_width": null,
            "object_fit": null,
            "object_position": null,
            "order": null,
            "overflow": null,
            "overflow_x": null,
            "overflow_y": null,
            "padding": null,
            "right": null,
            "top": null,
            "visibility": null,
            "width": null
          }
        },
        "27dff8495f344e4fbb1cd8ddf9b5df1d": {
          "model_module": "@jupyter-widgets/base",
          "model_module_version": "1.2.0",
          "model_name": "LayoutModel",
          "state": {
            "_model_module": "@jupyter-widgets/base",
            "_model_module_version": "1.2.0",
            "_model_name": "LayoutModel",
            "_view_count": null,
            "_view_module": "@jupyter-widgets/base",
            "_view_module_version": "1.2.0",
            "_view_name": "LayoutView",
            "align_content": null,
            "align_items": null,
            "align_self": null,
            "border": null,
            "bottom": null,
            "display": null,
            "flex": null,
            "flex_flow": null,
            "grid_area": null,
            "grid_auto_columns": null,
            "grid_auto_flow": null,
            "grid_auto_rows": null,
            "grid_column": null,
            "grid_gap": null,
            "grid_row": null,
            "grid_template_areas": null,
            "grid_template_columns": null,
            "grid_template_rows": null,
            "height": null,
            "justify_content": null,
            "justify_items": null,
            "left": null,
            "margin": null,
            "max_height": null,
            "max_width": null,
            "min_height": null,
            "min_width": null,
            "object_fit": null,
            "object_position": null,
            "order": null,
            "overflow": null,
            "overflow_x": null,
            "overflow_y": null,
            "padding": null,
            "right": null,
            "top": null,
            "visibility": null,
            "width": null
          }
        },
        "2ba08de02fe94044a217094fd0f52cdd": {
          "model_module": "@jupyter-widgets/controls",
          "model_module_version": "1.5.0",
          "model_name": "FloatProgressModel",
          "state": {
            "_dom_classes": [],
            "_model_module": "@jupyter-widgets/controls",
            "_model_module_version": "1.5.0",
            "_model_name": "FloatProgressModel",
            "_view_count": null,
            "_view_module": "@jupyter-widgets/controls",
            "_view_module_version": "1.5.0",
            "_view_name": "ProgressView",
            "bar_style": "success",
            "description": "",
            "description_tooltip": null,
            "layout": "IPY_MODEL_6d6570099ebd42e38edb066dac33952a",
            "max": 1332809049,
            "min": 0,
            "orientation": "horizontal",
            "style": "IPY_MODEL_6d90c2c898ca419fa20aa58ccee9fd6f",
            "value": 1332809049
          }
        },
        "31d3eef14faa4ff18ac77cd3f8b5e558": {
          "model_module": "@jupyter-widgets/base",
          "model_module_version": "1.2.0",
          "model_name": "LayoutModel",
          "state": {
            "_model_module": "@jupyter-widgets/base",
            "_model_module_version": "1.2.0",
            "_model_name": "LayoutModel",
            "_view_count": null,
            "_view_module": "@jupyter-widgets/base",
            "_view_module_version": "1.2.0",
            "_view_name": "LayoutView",
            "align_content": null,
            "align_items": null,
            "align_self": null,
            "border": null,
            "bottom": null,
            "display": null,
            "flex": null,
            "flex_flow": null,
            "grid_area": null,
            "grid_auto_columns": null,
            "grid_auto_flow": null,
            "grid_auto_rows": null,
            "grid_column": null,
            "grid_gap": null,
            "grid_row": null,
            "grid_template_areas": null,
            "grid_template_columns": null,
            "grid_template_rows": null,
            "height": null,
            "justify_content": null,
            "justify_items": null,
            "left": null,
            "margin": null,
            "max_height": null,
            "max_width": null,
            "min_height": null,
            "min_width": null,
            "object_fit": null,
            "object_position": null,
            "order": null,
            "overflow": null,
            "overflow_x": null,
            "overflow_y": null,
            "padding": null,
            "right": null,
            "top": null,
            "visibility": null,
            "width": null
          }
        },
        "385cc4be6d5047dba5079b65fa39f14f": {
          "model_module": "@jupyter-widgets/base",
          "model_module_version": "1.2.0",
          "model_name": "LayoutModel",
          "state": {
            "_model_module": "@jupyter-widgets/base",
            "_model_module_version": "1.2.0",
            "_model_name": "LayoutModel",
            "_view_count": null,
            "_view_module": "@jupyter-widgets/base",
            "_view_module_version": "1.2.0",
            "_view_name": "LayoutView",
            "align_content": null,
            "align_items": null,
            "align_self": null,
            "border": null,
            "bottom": null,
            "display": null,
            "flex": null,
            "flex_flow": null,
            "grid_area": null,
            "grid_auto_columns": null,
            "grid_auto_flow": null,
            "grid_auto_rows": null,
            "grid_column": null,
            "grid_gap": null,
            "grid_row": null,
            "grid_template_areas": null,
            "grid_template_columns": null,
            "grid_template_rows": null,
            "height": null,
            "justify_content": null,
            "justify_items": null,
            "left": null,
            "margin": null,
            "max_height": null,
            "max_width": null,
            "min_height": null,
            "min_width": null,
            "object_fit": null,
            "object_position": null,
            "order": null,
            "overflow": null,
            "overflow_x": null,
            "overflow_y": null,
            "padding": null,
            "right": null,
            "top": null,
            "visibility": null,
            "width": null
          }
        },
        "3a9cc05c7af44412bf84cbe112532275": {
          "model_module": "@jupyter-widgets/controls",
          "model_module_version": "1.5.0",
          "model_name": "DescriptionStyleModel",
          "state": {
            "_model_module": "@jupyter-widgets/controls",
            "_model_module_version": "1.5.0",
            "_model_name": "DescriptionStyleModel",
            "_view_count": null,
            "_view_module": "@jupyter-widgets/base",
            "_view_module_version": "1.2.0",
            "_view_name": "StyleView",
            "description_width": ""
          }
        },
        "412cb3be745140b0bd44ee6f37cfcb17": {
          "model_module": "@jupyter-widgets/base",
          "model_module_version": "1.2.0",
          "model_name": "LayoutModel",
          "state": {
            "_model_module": "@jupyter-widgets/base",
            "_model_module_version": "1.2.0",
            "_model_name": "LayoutModel",
            "_view_count": null,
            "_view_module": "@jupyter-widgets/base",
            "_view_module_version": "1.2.0",
            "_view_name": "LayoutView",
            "align_content": null,
            "align_items": null,
            "align_self": null,
            "border": null,
            "bottom": null,
            "display": null,
            "flex": null,
            "flex_flow": null,
            "grid_area": null,
            "grid_auto_columns": null,
            "grid_auto_flow": null,
            "grid_auto_rows": null,
            "grid_column": null,
            "grid_gap": null,
            "grid_row": null,
            "grid_template_areas": null,
            "grid_template_columns": null,
            "grid_template_rows": null,
            "height": null,
            "justify_content": null,
            "justify_items": null,
            "left": null,
            "margin": null,
            "max_height": null,
            "max_width": null,
            "min_height": null,
            "min_width": null,
            "object_fit": null,
            "object_position": null,
            "order": null,
            "overflow": null,
            "overflow_x": null,
            "overflow_y": null,
            "padding": null,
            "right": null,
            "top": null,
            "visibility": null,
            "width": null
          }
        },
        "4278d17167e74952a1548777506bcf0d": {
          "model_module": "@jupyter-widgets/controls",
          "model_module_version": "1.5.0",
          "model_name": "HTMLModel",
          "state": {
            "_dom_classes": [],
            "_model_module": "@jupyter-widgets/controls",
            "_model_module_version": "1.5.0",
            "_model_name": "HTMLModel",
            "_view_count": null,
            "_view_module": "@jupyter-widgets/controls",
            "_view_module_version": "1.5.0",
            "_view_name": "HTMLView",
            "description": "",
            "description_tooltip": null,
            "layout": "IPY_MODEL_7a235d9047bd4853b6d1629eafa94f56",
            "placeholder": "​",
            "style": "IPY_MODEL_efea329b44fc4ae3a296b16f7107e256",
            "value": "Downloading pytorch_model.bin: 100%"
          }
        },
        "4feb40f80d3c415a9923ac64355317a4": {
          "model_module": "@jupyter-widgets/controls",
          "model_module_version": "1.5.0",
          "model_name": "HTMLModel",
          "state": {
            "_dom_classes": [],
            "_model_module": "@jupyter-widgets/controls",
            "_model_module_version": "1.5.0",
            "_model_name": "HTMLModel",
            "_view_count": null,
            "_view_module": "@jupyter-widgets/controls",
            "_view_module_version": "1.5.0",
            "_view_name": "HTMLView",
            "description": "",
            "description_tooltip": null,
            "layout": "IPY_MODEL_e724111e0f6844fa95b433284298861c",
            "placeholder": "​",
            "style": "IPY_MODEL_845b9b6a5d8f4a37b4aee8950aadc75a",
            "value": " 579/579 [00:00&lt;00:00, 50.8kB/s]"
          }
        },
        "5fb864d583154f0b87f6565d92dbd76c": {
          "model_module": "@jupyter-widgets/controls",
          "model_module_version": "1.5.0",
          "model_name": "ProgressStyleModel",
          "state": {
            "_model_module": "@jupyter-widgets/controls",
            "_model_module_version": "1.5.0",
            "_model_name": "ProgressStyleModel",
            "_view_count": null,
            "_view_module": "@jupyter-widgets/base",
            "_view_module_version": "1.2.0",
            "_view_name": "StyleView",
            "bar_color": null,
            "description_width": ""
          }
        },
        "63f3bfa8174f4c98bafd4337778a3771": {
          "model_module": "@jupyter-widgets/base",
          "model_module_version": "1.2.0",
          "model_name": "LayoutModel",
          "state": {
            "_model_module": "@jupyter-widgets/base",
            "_model_module_version": "1.2.0",
            "_model_name": "LayoutModel",
            "_view_count": null,
            "_view_module": "@jupyter-widgets/base",
            "_view_module_version": "1.2.0",
            "_view_name": "LayoutView",
            "align_content": null,
            "align_items": null,
            "align_self": null,
            "border": null,
            "bottom": null,
            "display": null,
            "flex": null,
            "flex_flow": null,
            "grid_area": null,
            "grid_auto_columns": null,
            "grid_auto_flow": null,
            "grid_auto_rows": null,
            "grid_column": null,
            "grid_gap": null,
            "grid_row": null,
            "grid_template_areas": null,
            "grid_template_columns": null,
            "grid_template_rows": null,
            "height": null,
            "justify_content": null,
            "justify_items": null,
            "left": null,
            "margin": null,
            "max_height": null,
            "max_width": null,
            "min_height": null,
            "min_width": null,
            "object_fit": null,
            "object_position": null,
            "order": null,
            "overflow": null,
            "overflow_x": null,
            "overflow_y": null,
            "padding": null,
            "right": null,
            "top": null,
            "visibility": null,
            "width": null
          }
        },
        "6b1b7aa5f95846d48dabd793a1532606": {
          "model_module": "@jupyter-widgets/base",
          "model_module_version": "1.2.0",
          "model_name": "LayoutModel",
          "state": {
            "_model_module": "@jupyter-widgets/base",
            "_model_module_version": "1.2.0",
            "_model_name": "LayoutModel",
            "_view_count": null,
            "_view_module": "@jupyter-widgets/base",
            "_view_module_version": "1.2.0",
            "_view_name": "LayoutView",
            "align_content": null,
            "align_items": null,
            "align_self": null,
            "border": null,
            "bottom": null,
            "display": null,
            "flex": null,
            "flex_flow": null,
            "grid_area": null,
            "grid_auto_columns": null,
            "grid_auto_flow": null,
            "grid_auto_rows": null,
            "grid_column": null,
            "grid_gap": null,
            "grid_row": null,
            "grid_template_areas": null,
            "grid_template_columns": null,
            "grid_template_rows": null,
            "height": null,
            "justify_content": null,
            "justify_items": null,
            "left": null,
            "margin": null,
            "max_height": null,
            "max_width": null,
            "min_height": null,
            "min_width": null,
            "object_fit": null,
            "object_position": null,
            "order": null,
            "overflow": null,
            "overflow_x": null,
            "overflow_y": null,
            "padding": null,
            "right": null,
            "top": null,
            "visibility": null,
            "width": null
          }
        },
        "6d6570099ebd42e38edb066dac33952a": {
          "model_module": "@jupyter-widgets/base",
          "model_module_version": "1.2.0",
          "model_name": "LayoutModel",
          "state": {
            "_model_module": "@jupyter-widgets/base",
            "_model_module_version": "1.2.0",
            "_model_name": "LayoutModel",
            "_view_count": null,
            "_view_module": "@jupyter-widgets/base",
            "_view_module_version": "1.2.0",
            "_view_name": "LayoutView",
            "align_content": null,
            "align_items": null,
            "align_self": null,
            "border": null,
            "bottom": null,
            "display": null,
            "flex": null,
            "flex_flow": null,
            "grid_area": null,
            "grid_auto_columns": null,
            "grid_auto_flow": null,
            "grid_auto_rows": null,
            "grid_column": null,
            "grid_gap": null,
            "grid_row": null,
            "grid_template_areas": null,
            "grid_template_columns": null,
            "grid_template_rows": null,
            "height": null,
            "justify_content": null,
            "justify_items": null,
            "left": null,
            "margin": null,
            "max_height": null,
            "max_width": null,
            "min_height": null,
            "min_width": null,
            "object_fit": null,
            "object_position": null,
            "order": null,
            "overflow": null,
            "overflow_x": null,
            "overflow_y": null,
            "padding": null,
            "right": null,
            "top": null,
            "visibility": null,
            "width": null
          }
        },
        "6d90c2c898ca419fa20aa58ccee9fd6f": {
          "model_module": "@jupyter-widgets/controls",
          "model_module_version": "1.5.0",
          "model_name": "ProgressStyleModel",
          "state": {
            "_model_module": "@jupyter-widgets/controls",
            "_model_module_version": "1.5.0",
            "_model_name": "ProgressStyleModel",
            "_view_count": null,
            "_view_module": "@jupyter-widgets/base",
            "_view_module_version": "1.2.0",
            "_view_name": "StyleView",
            "bar_color": null,
            "description_width": ""
          }
        },
        "6e7481373d88460a9f645fe44b1f0168": {
          "model_module": "@jupyter-widgets/controls",
          "model_module_version": "1.5.0",
          "model_name": "DescriptionStyleModel",
          "state": {
            "_model_module": "@jupyter-widgets/controls",
            "_model_module_version": "1.5.0",
            "_model_name": "DescriptionStyleModel",
            "_view_count": null,
            "_view_module": "@jupyter-widgets/base",
            "_view_module_version": "1.2.0",
            "_view_name": "StyleView",
            "description_width": ""
          }
        },
        "79a305ea6e354fa2910fad29669fff5d": {
          "model_module": "@jupyter-widgets/controls",
          "model_module_version": "1.5.0",
          "model_name": "DescriptionStyleModel",
          "state": {
            "_model_module": "@jupyter-widgets/controls",
            "_model_module_version": "1.5.0",
            "_model_name": "DescriptionStyleModel",
            "_view_count": null,
            "_view_module": "@jupyter-widgets/base",
            "_view_module_version": "1.2.0",
            "_view_name": "StyleView",
            "description_width": ""
          }
        },
        "7a235d9047bd4853b6d1629eafa94f56": {
          "model_module": "@jupyter-widgets/base",
          "model_module_version": "1.2.0",
          "model_name": "LayoutModel",
          "state": {
            "_model_module": "@jupyter-widgets/base",
            "_model_module_version": "1.2.0",
            "_model_name": "LayoutModel",
            "_view_count": null,
            "_view_module": "@jupyter-widgets/base",
            "_view_module_version": "1.2.0",
            "_view_name": "LayoutView",
            "align_content": null,
            "align_items": null,
            "align_self": null,
            "border": null,
            "bottom": null,
            "display": null,
            "flex": null,
            "flex_flow": null,
            "grid_area": null,
            "grid_auto_columns": null,
            "grid_auto_flow": null,
            "grid_auto_rows": null,
            "grid_column": null,
            "grid_gap": null,
            "grid_row": null,
            "grid_template_areas": null,
            "grid_template_columns": null,
            "grid_template_rows": null,
            "height": null,
            "justify_content": null,
            "justify_items": null,
            "left": null,
            "margin": null,
            "max_height": null,
            "max_width": null,
            "min_height": null,
            "min_width": null,
            "object_fit": null,
            "object_position": null,
            "order": null,
            "overflow": null,
            "overflow_x": null,
            "overflow_y": null,
            "padding": null,
            "right": null,
            "top": null,
            "visibility": null,
            "width": null
          }
        },
        "7ae8334e2c654309aeb5f6134d562daa": {
          "model_module": "@jupyter-widgets/base",
          "model_module_version": "1.2.0",
          "model_name": "LayoutModel",
          "state": {
            "_model_module": "@jupyter-widgets/base",
            "_model_module_version": "1.2.0",
            "_model_name": "LayoutModel",
            "_view_count": null,
            "_view_module": "@jupyter-widgets/base",
            "_view_module_version": "1.2.0",
            "_view_name": "LayoutView",
            "align_content": null,
            "align_items": null,
            "align_self": null,
            "border": null,
            "bottom": null,
            "display": null,
            "flex": null,
            "flex_flow": null,
            "grid_area": null,
            "grid_auto_columns": null,
            "grid_auto_flow": null,
            "grid_auto_rows": null,
            "grid_column": null,
            "grid_gap": null,
            "grid_row": null,
            "grid_template_areas": null,
            "grid_template_columns": null,
            "grid_template_rows": null,
            "height": null,
            "justify_content": null,
            "justify_items": null,
            "left": null,
            "margin": null,
            "max_height": null,
            "max_width": null,
            "min_height": null,
            "min_width": null,
            "object_fit": null,
            "object_position": null,
            "order": null,
            "overflow": null,
            "overflow_x": null,
            "overflow_y": null,
            "padding": null,
            "right": null,
            "top": null,
            "visibility": null,
            "width": null
          }
        },
        "7b06e4ad1b95438ab42bcac17b954bb4": {
          "model_module": "@jupyter-widgets/base",
          "model_module_version": "1.2.0",
          "model_name": "LayoutModel",
          "state": {
            "_model_module": "@jupyter-widgets/base",
            "_model_module_version": "1.2.0",
            "_model_name": "LayoutModel",
            "_view_count": null,
            "_view_module": "@jupyter-widgets/base",
            "_view_module_version": "1.2.0",
            "_view_name": "LayoutView",
            "align_content": null,
            "align_items": null,
            "align_self": null,
            "border": null,
            "bottom": null,
            "display": null,
            "flex": null,
            "flex_flow": null,
            "grid_area": null,
            "grid_auto_columns": null,
            "grid_auto_flow": null,
            "grid_auto_rows": null,
            "grid_column": null,
            "grid_gap": null,
            "grid_row": null,
            "grid_template_areas": null,
            "grid_template_columns": null,
            "grid_template_rows": null,
            "height": null,
            "justify_content": null,
            "justify_items": null,
            "left": null,
            "margin": null,
            "max_height": null,
            "max_width": null,
            "min_height": null,
            "min_width": null,
            "object_fit": null,
            "object_position": null,
            "order": null,
            "overflow": null,
            "overflow_x": null,
            "overflow_y": null,
            "padding": null,
            "right": null,
            "top": null,
            "visibility": null,
            "width": null
          }
        },
        "7d8026df03f9476c881d8a013674204e": {
          "model_module": "@jupyter-widgets/controls",
          "model_module_version": "1.5.0",
          "model_name": "HTMLModel",
          "state": {
            "_dom_classes": [],
            "_model_module": "@jupyter-widgets/controls",
            "_model_module_version": "1.5.0",
            "_model_name": "HTMLModel",
            "_view_count": null,
            "_view_module": "@jupyter-widgets/controls",
            "_view_module_version": "1.5.0",
            "_view_name": "HTMLView",
            "description": "",
            "description_tooltip": null,
            "layout": "IPY_MODEL_63f3bfa8174f4c98bafd4337778a3771",
            "placeholder": "​",
            "style": "IPY_MODEL_79a305ea6e354fa2910fad29669fff5d",
            "value": " 1.33G/1.33G [00:13&lt;00:00, 111MB/s]"
          }
        },
        "845b9b6a5d8f4a37b4aee8950aadc75a": {
          "model_module": "@jupyter-widgets/controls",
          "model_module_version": "1.5.0",
          "model_name": "DescriptionStyleModel",
          "state": {
            "_model_module": "@jupyter-widgets/controls",
            "_model_module_version": "1.5.0",
            "_model_name": "DescriptionStyleModel",
            "_view_count": null,
            "_view_module": "@jupyter-widgets/base",
            "_view_module_version": "1.2.0",
            "_view_name": "StyleView",
            "description_width": ""
          }
        },
        "9a04d81b9b8f4453b85d69c5ae9892e3": {
          "model_module": "@jupyter-widgets/controls",
          "model_module_version": "1.5.0",
          "model_name": "DescriptionStyleModel",
          "state": {
            "_model_module": "@jupyter-widgets/controls",
            "_model_module_version": "1.5.0",
            "_model_name": "DescriptionStyleModel",
            "_view_count": null,
            "_view_module": "@jupyter-widgets/base",
            "_view_module_version": "1.2.0",
            "_view_name": "StyleView",
            "description_width": ""
          }
        },
        "a1277bc3580f4e288291f66ad8456f55": {
          "model_module": "@jupyter-widgets/controls",
          "model_module_version": "1.5.0",
          "model_name": "ProgressStyleModel",
          "state": {
            "_model_module": "@jupyter-widgets/controls",
            "_model_module_version": "1.5.0",
            "_model_name": "ProgressStyleModel",
            "_view_count": null,
            "_view_module": "@jupyter-widgets/base",
            "_view_module_version": "1.2.0",
            "_view_name": "StyleView",
            "bar_color": null,
            "description_width": ""
          }
        },
        "a41cb6544454452b8cf538082896d689": {
          "model_module": "@jupyter-widgets/controls",
          "model_module_version": "1.5.0",
          "model_name": "ProgressStyleModel",
          "state": {
            "_model_module": "@jupyter-widgets/controls",
            "_model_module_version": "1.5.0",
            "_model_name": "ProgressStyleModel",
            "_view_count": null,
            "_view_module": "@jupyter-widgets/base",
            "_view_module_version": "1.2.0",
            "_view_name": "StyleView",
            "bar_color": null,
            "description_width": ""
          }
        },
        "aac45caec68941829dd9f106159af037": {
          "model_module": "@jupyter-widgets/base",
          "model_module_version": "1.2.0",
          "model_name": "LayoutModel",
          "state": {
            "_model_module": "@jupyter-widgets/base",
            "_model_module_version": "1.2.0",
            "_model_name": "LayoutModel",
            "_view_count": null,
            "_view_module": "@jupyter-widgets/base",
            "_view_module_version": "1.2.0",
            "_view_name": "LayoutView",
            "align_content": null,
            "align_items": null,
            "align_self": null,
            "border": null,
            "bottom": null,
            "display": null,
            "flex": null,
            "flex_flow": null,
            "grid_area": null,
            "grid_auto_columns": null,
            "grid_auto_flow": null,
            "grid_auto_rows": null,
            "grid_column": null,
            "grid_gap": null,
            "grid_row": null,
            "grid_template_areas": null,
            "grid_template_columns": null,
            "grid_template_rows": null,
            "height": null,
            "justify_content": null,
            "justify_items": null,
            "left": null,
            "margin": null,
            "max_height": null,
            "max_width": null,
            "min_height": null,
            "min_width": null,
            "object_fit": null,
            "object_position": null,
            "order": null,
            "overflow": null,
            "overflow_x": null,
            "overflow_y": null,
            "padding": null,
            "right": null,
            "top": null,
            "visibility": null,
            "width": null
          }
        },
        "ba077970e9794e338d52bc7b1ce1d022": {
          "model_module": "@jupyter-widgets/controls",
          "model_module_version": "1.5.0",
          "model_name": "HBoxModel",
          "state": {
            "_dom_classes": [],
            "_model_module": "@jupyter-widgets/controls",
            "_model_module_version": "1.5.0",
            "_model_name": "HBoxModel",
            "_view_count": null,
            "_view_module": "@jupyter-widgets/controls",
            "_view_module_version": "1.5.0",
            "_view_name": "HBoxView",
            "box_style": "",
            "children": [
              "IPY_MODEL_f2864806722a48e5a8a984a83526bd09",
              "IPY_MODEL_1116eaae1956411bad85c6db59b03ec8",
              "IPY_MODEL_c468dae275c148fdb7b2af5ccf139545"
            ],
            "layout": "IPY_MODEL_31d3eef14faa4ff18ac77cd3f8b5e558"
          }
        },
        "c2b72e74daa5471f8adc216c0d341811": {
          "model_module": "@jupyter-widgets/base",
          "model_module_version": "1.2.0",
          "model_name": "LayoutModel",
          "state": {
            "_model_module": "@jupyter-widgets/base",
            "_model_module_version": "1.2.0",
            "_model_name": "LayoutModel",
            "_view_count": null,
            "_view_module": "@jupyter-widgets/base",
            "_view_module_version": "1.2.0",
            "_view_name": "LayoutView",
            "align_content": null,
            "align_items": null,
            "align_self": null,
            "border": null,
            "bottom": null,
            "display": null,
            "flex": null,
            "flex_flow": null,
            "grid_area": null,
            "grid_auto_columns": null,
            "grid_auto_flow": null,
            "grid_auto_rows": null,
            "grid_column": null,
            "grid_gap": null,
            "grid_row": null,
            "grid_template_areas": null,
            "grid_template_columns": null,
            "grid_template_rows": null,
            "height": null,
            "justify_content": null,
            "justify_items": null,
            "left": null,
            "margin": null,
            "max_height": null,
            "max_width": null,
            "min_height": null,
            "min_width": null,
            "object_fit": null,
            "object_position": null,
            "order": null,
            "overflow": null,
            "overflow_x": null,
            "overflow_y": null,
            "padding": null,
            "right": null,
            "top": null,
            "visibility": null,
            "width": null
          }
        },
        "c468dae275c148fdb7b2af5ccf139545": {
          "model_module": "@jupyter-widgets/controls",
          "model_module_version": "1.5.0",
          "model_name": "HTMLModel",
          "state": {
            "_dom_classes": [],
            "_model_module": "@jupyter-widgets/controls",
            "_model_module_version": "1.5.0",
            "_model_name": "HTMLModel",
            "_view_count": null,
            "_view_module": "@jupyter-widgets/controls",
            "_view_module_version": "1.5.0",
            "_view_name": "HTMLView",
            "description": "",
            "description_tooltip": null,
            "layout": "IPY_MODEL_412cb3be745140b0bd44ee6f37cfcb17",
            "placeholder": "​",
            "style": "IPY_MODEL_1b509392f09347e18c6feb39490c4a92",
            "value": " 4.31M/4.31M [00:00&lt;00:00, 25.8MB/s]"
          }
        },
        "c5ac48780f50427cbeac9271b7657ddf": {
          "model_module": "@jupyter-widgets/controls",
          "model_module_version": "1.5.0",
          "model_name": "HTMLModel",
          "state": {
            "_dom_classes": [],
            "_model_module": "@jupyter-widgets/controls",
            "_model_module_version": "1.5.0",
            "_model_name": "HTMLModel",
            "_view_count": null,
            "_view_module": "@jupyter-widgets/controls",
            "_view_module_version": "1.5.0",
            "_view_name": "HTMLView",
            "description": "",
            "description_tooltip": null,
            "layout": "IPY_MODEL_c2b72e74daa5471f8adc216c0d341811",
            "placeholder": "​",
            "style": "IPY_MODEL_f6e8c64d43f8400cbdb58cc661525b15",
            "value": " 52.0/52.0 [00:00&lt;00:00, 2.56kB/s]"
          }
        },
        "c8128d3fcee54884ac993b51f6f299e0": {
          "model_module": "@jupyter-widgets/controls",
          "model_module_version": "1.5.0",
          "model_name": "HBoxModel",
          "state": {
            "_dom_classes": [],
            "_model_module": "@jupyter-widgets/controls",
            "_model_module_version": "1.5.0",
            "_model_name": "HBoxModel",
            "_view_count": null,
            "_view_module": "@jupyter-widgets/controls",
            "_view_module_version": "1.5.0",
            "_view_name": "HBoxView",
            "box_style": "",
            "children": [
              "IPY_MODEL_1679fa2ab0dd4deab14d8e171fdad5a4",
              "IPY_MODEL_ef8056f80b0d446da9c77c59017f88d7",
              "IPY_MODEL_c5ac48780f50427cbeac9271b7657ddf"
            ],
            "layout": "IPY_MODEL_385cc4be6d5047dba5079b65fa39f14f"
          }
        },
        "ce2bbf8db8ad45c19e4581cfc5a77b72": {
          "model_module": "@jupyter-widgets/controls",
          "model_module_version": "1.5.0",
          "model_name": "HTMLModel",
          "state": {
            "_dom_classes": [],
            "_model_module": "@jupyter-widgets/controls",
            "_model_module_version": "1.5.0",
            "_model_name": "HTMLModel",
            "_view_count": null,
            "_view_module": "@jupyter-widgets/controls",
            "_view_module_version": "1.5.0",
            "_view_name": "HTMLView",
            "description": "",
            "description_tooltip": null,
            "layout": "IPY_MODEL_6b1b7aa5f95846d48dabd793a1532606",
            "placeholder": "​",
            "style": "IPY_MODEL_3a9cc05c7af44412bf84cbe112532275",
            "value": "Downloading (…)lve/main/config.json: 100%"
          }
        },
        "d963f04492014bd483db28e274042a60": {
          "model_module": "@jupyter-widgets/base",
          "model_module_version": "1.2.0",
          "model_name": "LayoutModel",
          "state": {
            "_model_module": "@jupyter-widgets/base",
            "_model_module_version": "1.2.0",
            "_model_name": "LayoutModel",
            "_view_count": null,
            "_view_module": "@jupyter-widgets/base",
            "_view_module_version": "1.2.0",
            "_view_name": "LayoutView",
            "align_content": null,
            "align_items": null,
            "align_self": null,
            "border": null,
            "bottom": null,
            "display": null,
            "flex": null,
            "flex_flow": null,
            "grid_area": null,
            "grid_auto_columns": null,
            "grid_auto_flow": null,
            "grid_auto_rows": null,
            "grid_column": null,
            "grid_gap": null,
            "grid_row": null,
            "grid_template_areas": null,
            "grid_template_columns": null,
            "grid_template_rows": null,
            "height": null,
            "justify_content": null,
            "justify_items": null,
            "left": null,
            "margin": null,
            "max_height": null,
            "max_width": null,
            "min_height": null,
            "min_width": null,
            "object_fit": null,
            "object_position": null,
            "order": null,
            "overflow": null,
            "overflow_x": null,
            "overflow_y": null,
            "padding": null,
            "right": null,
            "top": null,
            "visibility": null,
            "width": null
          }
        },
        "e724111e0f6844fa95b433284298861c": {
          "model_module": "@jupyter-widgets/base",
          "model_module_version": "1.2.0",
          "model_name": "LayoutModel",
          "state": {
            "_model_module": "@jupyter-widgets/base",
            "_model_module_version": "1.2.0",
            "_model_name": "LayoutModel",
            "_view_count": null,
            "_view_module": "@jupyter-widgets/base",
            "_view_module_version": "1.2.0",
            "_view_name": "LayoutView",
            "align_content": null,
            "align_items": null,
            "align_self": null,
            "border": null,
            "bottom": null,
            "display": null,
            "flex": null,
            "flex_flow": null,
            "grid_area": null,
            "grid_auto_columns": null,
            "grid_auto_flow": null,
            "grid_auto_rows": null,
            "grid_column": null,
            "grid_gap": null,
            "grid_row": null,
            "grid_template_areas": null,
            "grid_template_columns": null,
            "grid_template_rows": null,
            "height": null,
            "justify_content": null,
            "justify_items": null,
            "left": null,
            "margin": null,
            "max_height": null,
            "max_width": null,
            "min_height": null,
            "min_width": null,
            "object_fit": null,
            "object_position": null,
            "order": null,
            "overflow": null,
            "overflow_x": null,
            "overflow_y": null,
            "padding": null,
            "right": null,
            "top": null,
            "visibility": null,
            "width": null
          }
        },
        "ef8056f80b0d446da9c77c59017f88d7": {
          "model_module": "@jupyter-widgets/controls",
          "model_module_version": "1.5.0",
          "model_name": "FloatProgressModel",
          "state": {
            "_dom_classes": [],
            "_model_module": "@jupyter-widgets/controls",
            "_model_module_version": "1.5.0",
            "_model_name": "FloatProgressModel",
            "_view_count": null,
            "_view_module": "@jupyter-widgets/controls",
            "_view_module_version": "1.5.0",
            "_view_name": "ProgressView",
            "bar_style": "success",
            "description": "",
            "description_tooltip": null,
            "layout": "IPY_MODEL_7b06e4ad1b95438ab42bcac17b954bb4",
            "max": 52,
            "min": 0,
            "orientation": "horizontal",
            "style": "IPY_MODEL_a41cb6544454452b8cf538082896d689",
            "value": 52
          }
        },
        "efea329b44fc4ae3a296b16f7107e256": {
          "model_module": "@jupyter-widgets/controls",
          "model_module_version": "1.5.0",
          "model_name": "DescriptionStyleModel",
          "state": {
            "_model_module": "@jupyter-widgets/controls",
            "_model_module_version": "1.5.0",
            "_model_name": "DescriptionStyleModel",
            "_view_count": null,
            "_view_module": "@jupyter-widgets/base",
            "_view_module_version": "1.2.0",
            "_view_name": "StyleView",
            "description_width": ""
          }
        },
        "f2864806722a48e5a8a984a83526bd09": {
          "model_module": "@jupyter-widgets/controls",
          "model_module_version": "1.5.0",
          "model_name": "HTMLModel",
          "state": {
            "_dom_classes": [],
            "_model_module": "@jupyter-widgets/controls",
            "_model_module_version": "1.5.0",
            "_model_name": "HTMLModel",
            "_view_count": null,
            "_view_module": "@jupyter-widgets/controls",
            "_view_module_version": "1.5.0",
            "_view_name": "HTMLView",
            "description": "",
            "description_tooltip": null,
            "layout": "IPY_MODEL_7ae8334e2c654309aeb5f6134d562daa",
            "placeholder": "​",
            "style": "IPY_MODEL_9a04d81b9b8f4453b85d69c5ae9892e3",
            "value": "Downloading spm.model: 100%"
          }
        },
        "f6e8c64d43f8400cbdb58cc661525b15": {
          "model_module": "@jupyter-widgets/controls",
          "model_module_version": "1.5.0",
          "model_name": "DescriptionStyleModel",
          "state": {
            "_model_module": "@jupyter-widgets/controls",
            "_model_module_version": "1.5.0",
            "_model_name": "DescriptionStyleModel",
            "_view_count": null,
            "_view_module": "@jupyter-widgets/base",
            "_view_module_version": "1.2.0",
            "_view_name": "StyleView",
            "description_width": ""
          }
        },
        "fc46ffd786b74d0a9a187fc9bc3dd489": {
          "model_module": "@jupyter-widgets/base",
          "model_module_version": "1.2.0",
          "model_name": "LayoutModel",
          "state": {
            "_model_module": "@jupyter-widgets/base",
            "_model_module_version": "1.2.0",
            "_model_name": "LayoutModel",
            "_view_count": null,
            "_view_module": "@jupyter-widgets/base",
            "_view_module_version": "1.2.0",
            "_view_name": "LayoutView",
            "align_content": null,
            "align_items": null,
            "align_self": null,
            "border": null,
            "bottom": null,
            "display": null,
            "flex": null,
            "flex_flow": null,
            "grid_area": null,
            "grid_auto_columns": null,
            "grid_auto_flow": null,
            "grid_auto_rows": null,
            "grid_column": null,
            "grid_gap": null,
            "grid_row": null,
            "grid_template_areas": null,
            "grid_template_columns": null,
            "grid_template_rows": null,
            "height": null,
            "justify_content": null,
            "justify_items": null,
            "left": null,
            "margin": null,
            "max_height": null,
            "max_width": null,
            "min_height": null,
            "min_width": null,
            "object_fit": null,
            "object_position": null,
            "order": null,
            "overflow": null,
            "overflow_x": null,
            "overflow_y": null,
            "padding": null,
            "right": null,
            "top": null,
            "visibility": null,
            "width": null
          }
        }
      }
    }
  },
  "nbformat": 4,
  "nbformat_minor": 0
}
